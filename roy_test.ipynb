{
 "cells": [
  {
   "cell_type": "code",
   "execution_count": 4,
   "metadata": {},
   "outputs": [],
   "source": [
    "#import packages \n",
    "import numpy as np\n",
    "import pandas as pd\n",
    "import time"
   ]
  },
  {
   "cell_type": "markdown",
   "metadata": {},
   "source": [
    "Hey Roy so here is the code.\n",
    "<br> <br>\n",
    "So I am reading in the two files.\n",
    "<br> <br>\n",
    "The tmp array should be the indices where my two conditions are met. For these short files there should be only 1 location where the conditions are met for every line in Dec_Einstein, but maybe one or two lines in Dec_Einstein might have 2 locations where they meet the conditions. That's why my else statement has the loop.This means that theta_arcsec should only have one or two values max. \n",
    "<br><br>\n",
    "Count is correct in that there are 638 times that there is a match between Einstein and ROSAT. Even the size of theta is correct (638) so I am confused where tmp and theta_arcsec are of size 30 or so. I'm not sure what is going on. Having tmp so large is strange because there is only 1, maybe 2 spots where the two catalogs match for each line. In the if statement, when you use .all() to make sure that even value in the array of theta_arcsec is less than 300. However, when you print theta_arcsec, some numbers are greater than 300 by a lot-- like 3000 or 4000, so then the .all() statement fails since all aren't below 300. If I did .any(), then it would be fine, however, all of the numbers are counted and that is why I still get 638 mathes even though the .all() condition is there:\n",
    "<br><br>\n",
    "What I want to be able to do: <br>\n",
    "1) if theta_arcsec < 300: <br>\n",
    "instead of if (theta_arcsec < 300).all:  <br>\n",
    "I am confused that theta_arcsec is not a single value but it should be. Because I am interating over every value in Dec_Einstein and then every index in tmp.\n",
    "<br>\n",
    "2) print the output in a test.txt file that isn't 0. Currently, writing the angular separation (theta) into text.txt gives me only zeros. However, when you print(theta_arcsec) inside the for loop, it prints off nonzero numbers. However, there are more than 1-2 numbers in the theta_arcsec during each loop. There should be only 1-2 numbers since there should be only 1-2 indices when you do the np.where statement but there are like 40 numbers in each tmp statement. \n"
   ]
  },
  {
   "cell_type": "code",
   "execution_count": 21,
   "metadata": {},
   "outputs": [
    {
     "name": "stdout",
     "output_type": "stream",
     "text": [
      "638\n",
      "638\n",
      "Writing file\n",
      "Numpy: 1.9408230781555176 seconds\n"
     ]
    }
   ],
   "source": [
    "start = time.time() #start a time to see how long it takes\n",
    "\n",
    "ROSAT = pd.read_csv(\"rass_short.txt\", delim_whitespace=True)  \n",
    "Einstein = pd.read_csv(\"ets_short.txt\", delim_whitespace=True)\n",
    "\n",
    "RA_ROSAT = ROSAT.iloc[:, 2] #right ascention\n",
    "DEC_ROSAT = ROSAT.iloc[:, 3] #decllination\n",
    "SNR_ROSAT = ROSAT.iloc[:, 4] #signal to noise ratio\n",
    "\n",
    "RA_Einstein = Einstein.iloc[:, 0] #right ascention\n",
    "DEC_Einstein = Einstein.iloc[:, 1] #decllination\n",
    "SNR_Einstein = Einstein.iloc[:, 2] #signal to noise ratio\n",
    "\n",
    "\n",
    "count = 0\n",
    "\n",
    "theta = np.zeros(638) #the angular separation\n",
    "k = 0\n",
    "\n",
    "for i in range(np.size(DEC_Einstein)): \n",
    "        \n",
    "        tmp = np.where( ((np.absolute(DEC_Einstein[i] - DEC_ROSAT) < 1)) & ( (np.absolute(RA_Einstein[i]-RA_ROSAT[i]) * np.cos(DEC_ROSAT*(np.pi/180)) )  < 1 ) )  #conditions it need to meet\n",
    "        #print(type(tmp))\n",
    "        #print(np.size(tmp))\n",
    "        if np.size(tmp) ==0: \n",
    "                continue\n",
    "        else: \n",
    "                for j in tmp:\n",
    "                        #print(tmp)\n",
    "                        count+= 1\n",
    "                        theta_rad = np.sin(DEC_Einstein[i]*np.pi/180)* np.sin(DEC_ROSAT[j]*np.pi/180) + np.cos(DEC_Einstein[i]*np.pi/180)*np.cos(DEC_ROSAT[j]*np.pi/180)*np.cos(np.absolute(RA_Einstein[i]-RA_ROSAT[i])*np.pi/180) #returns answer in rad\n",
    "                        theta_arcsec = np.arccos(theta_rad) * 206265\n",
    "                        #print(theta_arcsec)\n",
    "                        #print(type(theta_arcsec))\n",
    "                        if (theta_arcsec < 300).all: \n",
    "                                np.append(theta, theta_arcsec)\n",
    "                                tmp_num = theta_arcsec\n",
    "                                k += 1\n",
    "\n",
    "                \n",
    "print(count)\n",
    "print(np.size(theta))\n",
    "#a = np.sin(90*np.pi/180)\n",
    "#print(a)\n",
    "\n",
    "ang_sep = np.zeros(count)\n",
    "#for i in range(count):\n",
    "    #ang_sep[i] = round(theta[i].value, 3)\n",
    "#    ang_sep[i] = theta[0][i]\n",
    "\n",
    "#print(np.shape(tmp))\n",
    "print(\"Writing file\")\n",
    "\n",
    "with open(r'test.txt', 'w') as fp:\n",
    "        for i in range(count):\n",
    "            if i == 0:\n",
    "                fp.write(\"Theta\\n\")\n",
    "            else:\n",
    "                fp.write(\"%f\\n\" %(theta[i]))\n",
    "\n",
    "print(f'Numpy: {time.time() - start} seconds')\n"
   ]
  },
  {
   "cell_type": "code",
   "execution_count": null,
   "metadata": {},
   "outputs": [],
   "source": []
  }
 ],
 "metadata": {
  "kernelspec": {
   "display_name": "Python 3.8.2 64-bit",
   "language": "python",
   "name": "python3"
  },
  "language_info": {
   "codemirror_mode": {
    "name": "ipython",
    "version": 3
   },
   "file_extension": ".py",
   "mimetype": "text/x-python",
   "name": "python",
   "nbconvert_exporter": "python",
   "pygments_lexer": "ipython3",
   "version": "3.8.2"
  },
  "orig_nbformat": 4,
  "vscode": {
   "interpreter": {
    "hash": "31f2aee4e71d21fbe5cf8b01ff0e069b9275f58929596ceb00d14d90e3e16cd6"
   }
  }
 },
 "nbformat": 4,
 "nbformat_minor": 2
}
