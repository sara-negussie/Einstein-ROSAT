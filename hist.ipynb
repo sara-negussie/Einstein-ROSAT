{
 "cells": [
  {
   "cell_type": "markdown",
   "metadata": {},
   "source": [
    "Make this a code make the historgrams\n"
   ]
  },
  {
   "cell_type": "code",
   "execution_count": 59,
   "metadata": {},
   "outputs": [],
   "source": [
    "import numpy as np\n",
    "import pandas as pd\n",
    "import matplotlib.pyplot as plt\n",
    "from astropy import units as u  \n",
    "import timefrom scipy.stats import norm\n",
    "import matplotlib.mlab as mlab"
   ]
  },
  {
   "cell_type": "code",
   "execution_count": 60,
   "metadata": {},
   "outputs": [
    {
     "data": {
      "text/plain": [
       "Text(200, 45, 'all false')"
      ]
     },
     "execution_count": 60,
     "metadata": {},
     "output_type": "execute_result"
    },
    {
     "data": {
      "image/png": "[encoded data removed]",
      "text/plain": [
       "<Figure size 432x288 with 1 Axes>"
      ]
     },
     "metadata": {
      "needs_background": "light"
     },
     "output_type": "display_data"
    }
   ],
   "source": [
    "#read in the files\n",
    "\n",
    "histFile = np.loadtxt(\"angsep_mysorted.txt\", skiprows = 1)\n",
    "theta = histFile[:,2]\n",
    "offset = histFile[:,1]\n",
    "decEinstein= histFile[:,0]\n",
    "decROSAT = histFile[:,3]\t\n",
    "raEinstein = histFile[:,4]\t\t\n",
    "raROSAT = histFile[:,5]\n",
    "\n",
    "#By offset\n",
    "\n",
    "# An \"interface\" to matplotlib.axes.Axes.hist() method\n",
    "n, bins, patches = plt.hist(x=offset,bins=40, color='#0504aa',\n",
    "                            alpha=0.7, rwidth=0.85)\n",
    "plt.grid(axis='y', alpha=0.75)\n",
    "plt.xlabel('Offset')\n",
    "plt.ylabel('Frequency')\n",
    "plt.title('Short Files')\n",
    "plt.axvline(2.6, color='k', linestyle='dashed', linewidth=1)\n",
    "plt.text(3, 45, r'all false')\n",
    "#maxfreq = n.max()\n",
    "# Set a clean upper y-axis limit.\n",
    "#plt.ylim(ymax=np.ceil(maxfreq / 10) * 10 if maxfreq % 10 else maxfreq + 10)\n",
    "#by theta\n",
    "#By offset\n",
    "\"\"\"\n",
    "# An \"interface\" to matplotlib.axes.Axes.hist() method\n",
    "n, bins, patches = plt.hist(x=theta,bins=40, color='#0504aa',\n",
    "                            alpha=0.7, rwidth=0.85)\n",
    "plt.grid(axis='y', alpha=0.75)\n",
    "plt.xlabel('Theta')\n",
    "plt.ylabel('Frequency')\n",
    "plt.title('Short Files')\n",
    "plt.axvline(190.7, color='k', linestyle='dashed', linewidth=1)\n",
    "plt.text(200, 45, r'all false')\n",
    "#maxfreq = n.max()\n",
    "# Set a clean upper y-axis limit.\n",
    "#plt.ylim(ymax=np.ceil(maxfreq / 10) * 10 if maxfreq % 10 else maxfreq + 10)\n",
    "\"\"\""
   ]
  },
  {
   "cell_type": "markdown",
   "metadata": {},
   "source": [
    "Here is with Ed's data"
   ]
  },
  {
   "cell_type": "code",
   "execution_count": null,
   "metadata": {},
   "outputs": [],
   "source": [
    "# An \"interface\" to matplotlib.axes.Axes.hist() method\n",
    "\n",
    "\n",
    "#weights = np.ones_like(myarray)/float(len(myarray))\n",
    "#plt.hist(myarray, weights=weights)\n",
    "\n",
    "(mu, sigma) = norm.fit(offset)\n",
    "\n",
    "# the histogram of the data\n",
    "#n, bins, patches = plt.hist(offset, 60, normed=1, facecolor='green', alpha=0.75)\n",
    "\n",
    "# add a 'best fit' line\n",
    "#y = mlab.normpdf( bins, mu, sigma)\n",
    "#l = plt.plot(bins, y, 'r--', linewidth=2)\n",
    "\n",
    "#area = np.pi*offset**2\n",
    "\n",
    "n, bins, patches = plt.hist(x=offset,bins=40, color='#0504aa',\n",
    "                            alpha=0.7, rwidth=0.85, density = True)\n",
    "plt.grid(axis='y', alpha=0.75)\n",
    "plt.xlabel('theta')\n",
    "plt.ylabel('Frequency')\n",
    "plt.title('Short Files')\n",
    "#plt.text(23, 45, r'$\\mu=15, b=3$')\n",
    "#maxfreq = n.max()\n",
    "# Set a clean upper y-axis limit.\n",
    "#plt.ylim(ymax=np.ceil(maxfreq / 10) * 10 if maxfreq % 10 else maxfreq + 10)"
   ]
  },
  {
   "cell_type": "code",
   "execution_count": null,
   "metadata": {},
   "outputs": [],
   "source": [
    "\"\"\"\n",
    "from scipy.stats import norm\n",
    "\n",
    "plt.figure(1)\n",
    "result = plt.hist(theta)\n",
    "plt.xlim((min(theta), max(theta)))\n",
    "\n",
    "mean = np.mean(theta)\n",
    "variance = np.var(theta)\n",
    "sigma = np.sqrt(variance)\n",
    "x = np.linspace(min(theta), max(theta), 100)\n",
    "dx = result[1][1] - result[1][0]\n",
    "scale = len(theta)*dx\n",
    "plt.plot(x, norm.pdf(x, mean, sigma)*scale)\n",
    "\"\"\""
   ]
  },
  {
   "cell_type": "code",
   "execution_count": 68,
   "metadata": {},
   "outputs": [],
   "source": [
    "#get bins\n",
    "#for "
   ]
  },
  {
   "cell_type": "code",
   "execution_count": 131,
   "metadata": {},
   "outputs": [
    {
     "name": "stdout",
     "output_type": "stream",
     "text": [
      "[0.  0.2 0.4 0.6 0.8 1.  1.2 1.4 1.6 1.8 2.  2.2 2.4 2.6]\n"
     ]
    },
    {
     "data": {
      "text/plain": [
       "Text(0.5, 1.0, 'Short Files')"
      ]
     },
     "execution_count": 131,
     "metadata": {},
     "output_type": "execute_result"
    },
    {
     "data": {
      "image/png": "[encoded data removed]",
      "text/plain": [
       "<Figure size 720x504 with 1 Axes>"
      ]
     },
     "metadata": {
      "needs_background": "light"
     },
     "output_type": "display_data"
    }
   ],
   "source": [
    "#read in the files\n",
    "histFile = pd.read_csv(\"sara_match.txt\", delim_whitespace=True)  \n",
    "theta = histFile.iloc[:,0]\n",
    "offset = histFile.iloc[:,1]\n",
    "decEinstein= histFile.iloc[:,2]\n",
    "decROSAT = histFile.iloc[:,3]\t\n",
    "raEinstein = histFile.iloc[:,4]\t\t\n",
    "raROSAT = histFile.iloc[:,5]\n",
    "\n",
    "#By offset\n",
    "\n",
    "fig = plt.figure(figsize =(10, 7))\n",
    "\n",
    "\n",
    "# An \"interface\" to matplotlib.axes.Axes.hist() method\n",
    "n, bins, patches = plt.hist(x=offset,bins=np.arange(0,2.8,0.2), color='#0504aa', alpha=0.7, rwidth=0.85)\n",
    "#print(bins)\n",
    "#bins\n",
    "plt.grid(axis='y', alpha=0.75)\n",
    "plt.xlabel('Offset')\n",
    "plt.ylabel('Frequency')\n",
    "plt.title('Short Files')\n",
    "#plt.axvline(2.6, color='k', linestyle='dashed', linewidth=1)\n",
    "#plt.text(2.6, 45, r'all false')\n",
    "\n",
    "#2.40153846"
   ]
  },
  {
   "cell_type": "code",
   "execution_count": 151,
   "metadata": {},
   "outputs": [
    {
     "data": {
      "text/plain": [
       "<BarContainer object of 12 artists>"
      ]
     },
     "execution_count": 151,
     "metadata": {},
     "output_type": "execute_result"
    },
    {
     "data": {
      "image/png": "[encoded data removed]",
      "text/plain": [
       "<Figure size 720x504 with 1 Axes>"
      ]
     },
     "metadata": {
      "needs_background": "light"
     },
     "output_type": "display_data"
    }
   ],
   "source": [
    "countsPerArea = np.zeros(np.size(n))\n",
    "#print(bins)\n",
    "for i in range((np.size(n))):\n",
    "    if i == 0:\n",
    "        #continue\n",
    "        countsPerArea[i] = n[i]/(np.pi* bins[i+1]**2)\n",
    "        #print(countsPerArea[i])\n",
    "    else: \n",
    "        countsPerArea[i] = n[i]/(np.pi*(bins[i+1]**2 - bins[i]**2))\n",
    "        #print(countsPerArea[i])\n",
    "countsPerArea\n",
    "#bins[1]\n",
    "#counts = np.zeros(100)\n",
    "#for i in range(offset):\n",
    "#    if \n",
    "\n",
    "#plt.bar(bins[0:13],countsPerArea)\n",
    "\n",
    "#plt.hist(a, bins = )\n",
    "fig = plt.figure(figsize =(10, 7))\n",
    "plt.title(\"Numpy Histogram\")\n",
    "\n",
    "plt.bar(bins[1:13], countsPerArea[0:12])"
   ]
  },
  {
   "cell_type": "code",
   "execution_count": 147,
   "metadata": {},
   "outputs": [
    {
     "name": "stdout",
     "output_type": "stream",
     "text": [
      "[190.98593171 185.68076694 128.9155039  119.36620732  81.3458598\n",
      "  50.64020917  26.32177905  14.32394488  13.57498044  10.05189114\n",
      "   8.3366875   10.03368119   7.0028175 ]\n"
     ]
    }
   ],
   "source": [
    "print(countsPerArea)\n",
    "#bins"
   ]
  },
  {
   "cell_type": "code",
   "execution_count": 146,
   "metadata": {},
   "outputs": [
    {
     "data": {
      "text/plain": [
       "array([0. , 0.2, 0.4, 0.6, 0.8, 1. , 1.2, 1.4, 1.6, 1.8, 2. , 2.2, 2.4,\n",
       "       2.6])"
      ]
     },
     "execution_count": 146,
     "metadata": {},
     "output_type": "execute_result"
    }
   ],
   "source": [
    "bins"
   ]
  },
  {
   "cell_type": "code",
   "execution_count": null,
   "metadata": {},
   "outputs": [],
   "source": []
  }
 ],
 "metadata": {
  "kernelspec": {
   "display_name": "Python 3.8.2 64-bit",
   "language": "python",
   "name": "python3"
  },
  "language_info": {
   "codemirror_mode": {
    "name": "ipython",
    "version": 3
   },
   "file_extension": ".py",
   "mimetype": "text/x-python",
   "name": "python",
   "nbconvert_exporter": "python",
   "pygments_lexer": "ipython3",
   "version": "3.8.2"
  },
  "orig_nbformat": 4,
  "vscode": {
   "interpreter": {
    "hash": "31f2aee4e71d21fbe5cf8b01ff0e069b9275f58929596ceb00d14d90e3e16cd6"
   }
  }
 },
 "nbformat": 4,
 "nbformat_minor": 2
}
