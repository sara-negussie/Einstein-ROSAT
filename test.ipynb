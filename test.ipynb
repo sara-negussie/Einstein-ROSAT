{
 "cells": [
  {
   "cell_type": "markdown",
   "metadata": {},
   "source": [
    "Here is just a test notebook."
   ]
  },
  {
   "cell_type": "code",
   "execution_count": 1,
   "metadata": {},
   "outputs": [],
   "source": [
    "#import packages \n",
    "import numpy as np\n",
    "import pandas as pd\n",
    "import matplotlib.pyplot as plt\n",
    "from astropy import units as u  \n",
    "import time"
   ]
  },
  {
   "cell_type": "code",
   "execution_count": 45,
   "metadata": {},
   "outputs": [],
   "source": [
    "#read in the files\n"
   ]
  },
  {
   "cell_type": "markdown",
   "metadata": {},
   "source": [
    "I have two files, one from Einstein Observatory and one from ROSAT observatory. They both have detections. Each row in both files are a source detection. I want to see if they could be connected. My first way is to see if they are nearby each other. I want to compare every line in Einstein with every line in ROSAT. I'm trying to do this as fast as possible, or at least a way that isn't taking over 5 days.... these for loops are slow. I tried your np.where suggestion but I still have a for loop and I was wondering if there is a better way to do this."
   ]
  },
  {
   "cell_type": "code",
   "execution_count": 48,
   "metadata": {},
   "outputs": [
    {
     "name": "stdout",
     "output_type": "stream",
     "text": [
      "46185\n",
      "Numpy: 176.1559317111969 seconds\n"
     ]
    }
   ],
   "source": [
    "#Here is one example\n",
    "#here is all the data. The Einstein file has 46,000 lines and the ROSAT has 112,000 lines\n",
    "#this takes almost 3 minutes\n",
    "\n",
    "start = time.time() #start a time to see how long it takes\n",
    "\n",
    "ROSAT = pd.read_csv(\"2rxs_lite.txt\", delim_whitespace=True)  \n",
    "Einstein = pd.read_csv(\"2sig_J2000_theta.txt\", delim_whitespace=True)\n",
    "\n",
    "RA_ROSAT = ROSAT.iloc[:, 2] #right ascention\n",
    "DEC_ROSAT = ROSAT.iloc[:, 3] #decllination\n",
    "SNR_ROSAT = ROSAT.iloc[:, 4] #signal to noise ratio\n",
    "\n",
    "RA_Einstein = Einstein.iloc[:, 0] #right ascention\n",
    "DEC_Einstein = Einstein.iloc[:, 1] #decllination\n",
    "SNR_Einstein = Einstein.iloc[:, 2] #signal to noise ratio\n",
    "\n",
    "count = 0\n",
    "\n",
    "for i in range(np.size(DEC_Einstein)): # i was wondering, is there a better way to do this instead of a for loop since it is so slow?\n",
    "\n",
    "    tmp = np.where( ((np.absolute(DEC_Einstein[i] - DEC_ROSAT) < 1)) & ( (np.absolute(RA_Einstein[i]-RA_ROSAT[i]) * np.cos(DEC_ROSAT*(180/np.pi)) )  < 1 ) )  #conditions it need to meet\n",
    "\n",
    "    if np.size(tmp) ==0: #is there a better way to do this? instead of the if... else statements\n",
    "            continue\n",
    "\n",
    "    else: \n",
    "        count += 1 #just to see how many matches we get\n",
    "print(count)\n",
    "\n",
    "\n",
    "print(f'Numpy: {time.time() - start} seconds')\n"
   ]
  },
  {
   "cell_type": "code",
   "execution_count": 49,
   "metadata": {},
   "outputs": [
    {
     "name": "stdout",
     "output_type": "stream",
     "text": [
      "638\n",
      "Numpy: 0.7407848834991455 seconds\n"
     ]
    }
   ],
   "source": [
    "start = time.time() #start a time to see how long it takes\n",
    "\n",
    "#Here is the other example with shorter files\n",
    "#this one only takes 0.7 seconds\n",
    "\n",
    "ROSAT = pd.read_csv(\"ROSAT-sorted.txt\", delim_whitespace=True)  \n",
    "Einstein = pd.read_csv(\"ets_short.txt\", delim_whitespace=True)\n",
    "\n",
    "RA_ROSAT = ROSAT.iloc[:, 2] #right ascention\n",
    "DEC_ROSAT = ROSAT.iloc[:, 3] #decllination\n",
    "SNR_ROSAT = ROSAT.iloc[:, 4] #signal to noise ratio\n",
    "\n",
    "RA_Einstein = Einstein.iloc[:, 0] #right ascention\n",
    "DEC_Einstein = Einstein.iloc[:, 1] #decllination\n",
    "SNR_Einstein = Einstein.iloc[:, 2] #signal to noise ratio\n",
    "count = 0\n",
    "\n",
    "theta = [] #the angular separation\n",
    "\n",
    "for i in range(np.size(DEC_Einstein)): # i was wondering, is there a better way to do this instead of a for loop since it is so slow?\n",
    "\n",
    "    tmp = np.where( ((np.absolute(DEC_Einstein[i] - DEC_ROSAT) < 1)) & ( (np.absolute(RA_Einstein[i]-RA_ROSAT[i]) * np.cos(DEC_ROSAT*(180/np.pi)) )  < 1 ) )  #conditions it need to meet\n",
    "\n",
    "    if np.size(tmp) ==0: \n",
    "            continue\n",
    "    else: \n",
    "        count+= 1\n",
    "print(count)\n",
    "\n",
    "\n",
    "print(f'Numpy: {time.time() - start} seconds')\n"
   ]
  },
  {
   "cell_type": "markdown",
   "metadata": {},
   "source": [
    "However, I want to do more than just find out how many lines have coordinates that could be near each other so I want to save those coordinates. I took the previous code and am adding to it."
   ]
  },
  {
   "cell_type": "code",
   "execution_count": 52,
   "metadata": {},
   "outputs": [
    {
     "ename": "KeyError",
     "evalue": "57.29577951308232",
     "output_type": "error",
     "traceback": [
      "\u001b[0;31m---------------------------------------------------------------------------\u001b[0m",
      "\u001b[0;31mKeyError\u001b[0m                                  Traceback (most recent call last)",
      "\u001b[1;32m/Users/snegussie/Documents/Negussie Research Folder/Einstein-ROSAT/test.ipynb Cell 8'\u001b[0m in \u001b[0;36m<cell line: 20>\u001b[0;34m()\u001b[0m\n\u001b[1;32m     <a href='vscode-notebook-cell:/Users/snegussie/Documents/Negussie%20Research%20Folder/Einstein-ROSAT/test.ipynb#ch0000009?line=26'>27</a>\u001b[0m \u001b[39mfor\u001b[39;00m j \u001b[39min\u001b[39;00m \u001b[39mrange\u001b[39m(np\u001b[39m.\u001b[39msize(tmp)):\n\u001b[1;32m     <a href='vscode-notebook-cell:/Users/snegussie/Documents/Negussie%20Research%20Folder/Einstein-ROSAT/test.ipynb#ch0000009?line=27'>28</a>\u001b[0m         count\u001b[39m+\u001b[39m\u001b[39m=\u001b[39m \u001b[39m1\u001b[39m\n\u001b[0;32m---> <a href='vscode-notebook-cell:/Users/snegussie/Documents/Negussie%20Research%20Folder/Einstein-ROSAT/test.ipynb#ch0000009?line=28'>29</a>\u001b[0m         theta_rad \u001b[39m=\u001b[39m np\u001b[39m.\u001b[39msin(DEC_Einstein[i\u001b[39m*\u001b[39m\u001b[39m180\u001b[39m\u001b[39m/\u001b[39mnp\u001b[39m.\u001b[39mpi])\u001b[39m*\u001b[39m np\u001b[39m.\u001b[39msin(DEC_ROSAT[j\u001b[39m*\u001b[39;49m\u001b[39m180\u001b[39;49m\u001b[39m/\u001b[39;49mnp\u001b[39m.\u001b[39;49mpi]) \u001b[39m+\u001b[39m np\u001b[39m.\u001b[39mcos(DEC_Einstein[i\u001b[39m*\u001b[39m\u001b[39m180\u001b[39m\u001b[39m/\u001b[39mnp\u001b[39m.\u001b[39mpi])\u001b[39m*\u001b[39mnp\u001b[39m.\u001b[39mcos(DEC_ROSAT[j\u001b[39m*\u001b[39m\u001b[39m180\u001b[39m\u001b[39m/\u001b[39mnp\u001b[39m.\u001b[39mpi])\u001b[39m*\u001b[39mnp\u001b[39m.\u001b[39mcos(np\u001b[39m.\u001b[39mabsolute(RA_Einstein[i]\u001b[39m-\u001b[39mRA_ROSAT[i])\u001b[39m*\u001b[39m\u001b[39m180\u001b[39m\u001b[39m/\u001b[39mnp\u001b[39m.\u001b[39mpi) \u001b[39m#returns answer in rad\u001b[39;00m\n\u001b[1;32m     <a href='vscode-notebook-cell:/Users/snegussie/Documents/Negussie%20Research%20Folder/Einstein-ROSAT/test.ipynb#ch0000009?line=29'>30</a>\u001b[0m         theta_arcsec \u001b[39m=\u001b[39m np\u001b[39m.\u001b[39marccos(theta_rad) \u001b[39m*\u001b[39m \u001b[39m206265\u001b[39m\n\u001b[1;32m     <a href='vscode-notebook-cell:/Users/snegussie/Documents/Negussie%20Research%20Folder/Einstein-ROSAT/test.ipynb#ch0000009?line=30'>31</a>\u001b[0m         theta\u001b[39m.\u001b[39mappend(theta_arcsec) \n",
      "File \u001b[0;32m~/Library/Python/3.8/lib/python/site-packages/pandas/core/series.py:958\u001b[0m, in \u001b[0;36mSeries.__getitem__\u001b[0;34m(self, key)\u001b[0m\n\u001b[1;32m    955\u001b[0m     \u001b[39mreturn\u001b[39;00m \u001b[39mself\u001b[39m\u001b[39m.\u001b[39m_values[key]\n\u001b[1;32m    957\u001b[0m \u001b[39melif\u001b[39;00m key_is_scalar:\n\u001b[0;32m--> 958\u001b[0m     \u001b[39mreturn\u001b[39;00m \u001b[39mself\u001b[39;49m\u001b[39m.\u001b[39;49m_get_value(key)\n\u001b[1;32m    960\u001b[0m \u001b[39mif\u001b[39;00m is_hashable(key):\n\u001b[1;32m    961\u001b[0m     \u001b[39m# Otherwise index.get_value will raise InvalidIndexError\u001b[39;00m\n\u001b[1;32m    962\u001b[0m     \u001b[39mtry\u001b[39;00m:\n\u001b[1;32m    963\u001b[0m         \u001b[39m# For labels that don't resolve as scalars like tuples and frozensets\u001b[39;00m\n",
      "File \u001b[0;32m~/Library/Python/3.8/lib/python/site-packages/pandas/core/series.py:1069\u001b[0m, in \u001b[0;36mSeries._get_value\u001b[0;34m(self, label, takeable)\u001b[0m\n\u001b[1;32m   1066\u001b[0m     \u001b[39mreturn\u001b[39;00m \u001b[39mself\u001b[39m\u001b[39m.\u001b[39m_values[label]\n\u001b[1;32m   1068\u001b[0m \u001b[39m# Similar to Index.get_value, but we do not fall back to positional\u001b[39;00m\n\u001b[0;32m-> 1069\u001b[0m loc \u001b[39m=\u001b[39m \u001b[39mself\u001b[39;49m\u001b[39m.\u001b[39;49mindex\u001b[39m.\u001b[39;49mget_loc(label)\n\u001b[1;32m   1070\u001b[0m \u001b[39mreturn\u001b[39;00m \u001b[39mself\u001b[39m\u001b[39m.\u001b[39mindex\u001b[39m.\u001b[39m_get_values_for_loc(\u001b[39mself\u001b[39m, loc, label)\n",
      "File \u001b[0;32m~/Library/Python/3.8/lib/python/site-packages/pandas/core/indexes/range.py:389\u001b[0m, in \u001b[0;36mRangeIndex.get_loc\u001b[0;34m(self, key, method, tolerance)\u001b[0m\n\u001b[1;32m    387\u001b[0m             \u001b[39mraise\u001b[39;00m \u001b[39mKeyError\u001b[39;00m(key) \u001b[39mfrom\u001b[39;00m \u001b[39merr\u001b[39;00m\n\u001b[1;32m    388\u001b[0m     \u001b[39mself\u001b[39m\u001b[39m.\u001b[39m_check_indexing_error(key)\n\u001b[0;32m--> 389\u001b[0m     \u001b[39mraise\u001b[39;00m \u001b[39mKeyError\u001b[39;00m(key)\n\u001b[1;32m    390\u001b[0m \u001b[39mreturn\u001b[39;00m \u001b[39msuper\u001b[39m()\u001b[39m.\u001b[39mget_loc(key, method\u001b[39m=\u001b[39mmethod, tolerance\u001b[39m=\u001b[39mtolerance)\n",
      "\u001b[0;31mKeyError\u001b[0m: 57.29577951308232"
     ]
    }
   ],
   "source": [
    "start = time.time() #start a time to see how long it takes\n",
    "\n",
    "#Here is the other example with shorter files\n",
    "#this one only takes 0.7 seconds\n",
    "\n",
    "ROSAT = pd.read_csv(\"ROSAT-sorted.txt\", delim_whitespace=True)  \n",
    "Einstein = pd.read_csv(\"ets_short.txt\", delim_whitespace=True)\n",
    "\n",
    "RA_ROSAT = ROSAT.iloc[:, 2] #right ascention\n",
    "DEC_ROSAT = ROSAT.iloc[:, 3] #decllination\n",
    "SNR_ROSAT = ROSAT.iloc[:, 4] #signal to noise ratio\n",
    "\n",
    "RA_Einstein = Einstein.iloc[:, 0] #right ascention\n",
    "DEC_Einstein = Einstein.iloc[:, 1] #decllination\n",
    "SNR_Einstein = Einstein.iloc[:, 2] #signal to noise ratio\n",
    "count = 0\n",
    "\n",
    "theta = [] #the angular separation\n",
    "\n",
    "for i in range(np.size(DEC_Einstein)): # i was wondering, is there a better way to do this instead of a for loop since it is so slow?\n",
    "\n",
    "    tmp = np.where( ((np.absolute(DEC_Einstein[i] - DEC_ROSAT) < 1)) & ( (np.absolute(RA_Einstein[i]-RA_ROSAT[i]) * np.cos(DEC_ROSAT*(180/np.pi)) )  < 1 ) )  #conditions it need to meet\n",
    "\n",
    "    if np.size(tmp) ==0: \n",
    "            continue\n",
    "    else: \n",
    "        for j in range(np.size(tmp)):\n",
    "                count+= 1\n",
    "                theta_rad = np.sin(DEC_Einstein[i*180/np.pi])* np.sin(DEC_ROSAT[j*180/np.pi]) + np.cos(DEC_Einstein[i*180/np.pi])*np.cos(DEC_ROSAT[j*180/np.pi])*np.cos(np.absolute(RA_Einstein[i]-RA_ROSAT[i])*180/np.pi) #returns answer in rad\n",
    "                theta_arcsec = np.arccos(theta_rad) * 206265\n",
    "                theta.append(theta_arcsec) \n",
    "print(count)\n",
    "\n",
    "\n",
    "print(f'Numpy: {time.time() - start} seconds')\n"
   ]
  },
  {
   "cell_type": "code",
   "execution_count": 42,
   "metadata": {},
   "outputs": [
    {
     "data": {
      "text/plain": [
       "638"
      ]
     },
     "execution_count": 42,
     "metadata": {},
     "output_type": "execute_result"
    }
   ],
   "source": [
    "L = [i for i in range (1, 10000000) if i%130 == 0]\n",
    "tmp = [i for i in range (0, np.size(DEC_Einstein)) if np.where( ((np.absolute(tmp_num - DEC_ROSAT) < 1)) & (np.absolute(RA_Einstein-RA_ROSAT) * np.cos(DEC_ROSAT*(180/np.pi))  < 1 ) ) ]\n",
    "np.size(tmp)"
   ]
  },
  {
   "cell_type": "code",
   "execution_count": 30,
   "metadata": {},
   "outputs": [
    {
     "name": "stdout",
     "output_type": "stream",
     "text": [
      "[0, 1, 2, 3, 4, 5, 6, 7, 8, 9, 10, 11, 12, 13, 14, 15, 16, 17, 18, 19, 20, 21, 22, 23, 24, 25, 26, 27, 28, 29, 30, 31, 32, 33, 34, 35, 36, 37, 38, 39, 40, 41, 42, 43, 44, 45, 46, 47, 48, 49, 50, 51, 52, 53, 54, 55, 56, 57, 58, 59, 60, 61, 62, 63, 64, 65, 66, 67, 68, 69, 70, 71, 72, 73, 74, 75, 76, 77, 78, 79, 80, 81, 82, 83, 84, 85, 86, 87, 88, 89, 90, 91, 92, 93, 94, 95, 96, 97, 98, 99, 100, 101, 102, 103, 104, 105, 106, 107, 108, 109, 110, 111, 112, 113, 114, 115, 116, 117, 118, 119, 120, 121, 122, 123, 124, 125, 126, 127, 128, 129, 130, 131, 132, 133, 134, 135, 136, 137, 138, 139, 140, 141, 142, 143, 144, 145, 146, 147, 148, 149, 150, 151, 152, 153, 154, 155, 156, 157, 158, 159, 160, 161, 162, 163, 164, 165, 166, 167, 168, 169, 170, 171, 172, 173, 174, 175, 176, 177, 178, 179, 180, 181, 182, 183, 184, 185, 186, 187, 188, 189, 190, 191, 192, 193, 194, 195, 196, 197, 198, 199, 200, 201, 202, 203, 204, 205, 206, 207, 208, 209, 210, 211, 212, 213, 214, 215, 216, 217, 218, 219, 220, 221, 222, 223, 224, 225, 226, 227, 228, 229, 230, 231, 232, 233, 234, 235, 236, 237, 238, 239, 240, 241, 242, 243, 244, 245, 246, 247, 248, 249, 250, 251, 252, 253, 254, 255, 256, 257, 258, 259, 260, 261, 262, 263, 264, 265, 266, 267, 268, 269, 270, 271, 272, 273, 274, 275, 276, 277, 278, 279, 280, 281, 282, 283, 284, 285, 286, 287, 288, 289, 290, 291, 292, 293, 294, 295, 296, 297, 298, 299, 300, 301, 302, 303, 304, 305, 306, 307, 308, 309, 310, 311, 312, 313, 314, 315, 316, 317, 318, 319, 320, 321, 322, 323, 324, 325, 326, 327, 328, 329, 330, 331, 332, 333, 334, 335, 336, 337, 338, 339, 340, 341, 342, 343, 344, 345, 346, 347, 348, 349, 350, 351, 352, 353, 354, 355, 356, 357, 358, 359, 360, 361, 362, 363, 364, 365, 366, 367, 368, 369, 370, 371, 372, 373, 374, 375, 376, 377, 378, 379, 380, 381, 382, 383, 384, 385, 386, 387, 388, 389, 390, 391, 392, 393, 394, 395, 396, 397, 398, 399, 400, 401, 402, 403, 404, 405, 406, 407, 408, 409, 410, 411, 412, 413, 414, 415, 416, 417, 418, 419, 420, 421, 422, 423, 424, 425, 426, 427, 428, 429, 430, 431, 432, 433, 434, 435, 436, 437, 438, 439, 440, 441, 442, 443, 444, 445, 446, 447, 448, 449, 450, 451, 452, 453, 454, 455, 456, 457, 458, 459, 460, 461, 462, 463, 464, 465, 466, 467, 468, 469, 470, 471, 472, 473, 474, 475, 476, 477, 478, 479, 480, 481, 482, 483, 484, 485, 486, 487, 488, 489, 490, 491, 492, 493, 494, 495, 496, 497, 498, 499, 500, 501, 502, 503, 504, 505, 506, 507, 508, 509, 510, 511, 512, 513, 514, 515, 516, 517, 518, 519, 520, 521, 522, 523, 524, 525, 526, 527, 528, 529, 530, 531, 532, 533, 534, 535, 536, 537, 538, 539, 540, 541, 542, 543, 544, 545, 546, 547, 548, 549, 550, 551, 552, 553, 554, 555, 556, 557, 558, 559, 560, 561, 562, 563, 564, 565, 566, 567, 568, 569, 570, 571, 572, 573, 574, 575, 576, 577, 578, 579, 580, 581, 582, 583, 584, 585, 586, 587, 588, 589, 590, 591, 592, 593, 594, 595, 596, 597, 598, 599, 600, 601, 602, 603, 604, 605, 606, 607, 608, 609, 610, 611, 612, 613, 614, 615, 616, 617, 618, 619, 620, 621, 622, 623, 624, 625, 626, 627, 628, 629, 630, 631, 632, 633, 634, 635, 636, 637]\n"
     ]
    }
   ],
   "source": [
    "print(tmp)"
   ]
  },
  {
   "cell_type": "code",
   "execution_count": null,
   "metadata": {},
   "outputs": [],
   "source": [
    " "
   ]
  }
 ],
 "metadata": {
  "kernelspec": {
   "display_name": "Python 3.8.2 64-bit",
   "language": "python",
   "name": "python3"
  },
  "language_info": {
   "codemirror_mode": {
    "name": "ipython",
    "version": 3
   },
   "file_extension": ".py",
   "mimetype": "text/x-python",
   "name": "python",
   "nbconvert_exporter": "python",
   "pygments_lexer": "ipython3",
   "version": "3.8.2"
  },
  "orig_nbformat": 4,
  "vscode": {
   "interpreter": {
    "hash": "31f2aee4e71d21fbe5cf8b01ff0e069b9275f58929596ceb00d14d90e3e16cd6"
   }
  }
 },
 "nbformat": 4,
 "nbformat_minor": 2
}
