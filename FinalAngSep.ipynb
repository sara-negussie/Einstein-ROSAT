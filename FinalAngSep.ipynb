{
 "cells": [
  {
   "cell_type": "markdown",
   "metadata": {},
   "source": [
    "Working angular sep"
   ]
  },
  {
   "cell_type": "code",
   "execution_count": 23,
   "metadata": {},
   "outputs": [],
   "source": [
    "#import packages \n",
    "import numpy as np\n",
    "import pandas as pd\n",
    "import time"
   ]
  },
  {
   "cell_type": "code",
   "execution_count": 24,
   "metadata": {},
   "outputs": [],
   "source": [
    "ROSAT = pd.read_csv(\"2rxs_lite.txt\", delim_whitespace=True)  \n",
    "Einstein = pd.read_csv(\"2sig_J2000_theta.txt\", delim_whitespace=True)\n",
    "\n",
    "RA_ROSAT = ROSAT.iloc[:, 2] #right ascention\n",
    "DEC_ROSAT = ROSAT.iloc[:, 3] #decllination\n",
    "SNR_ROSAT = ROSAT.iloc[:, 4] #signal to noise ratio\n",
    "\n",
    "RA_Einstein = Einstein.iloc[:, 0] #right ascention\n",
    "DEC_Einstein = Einstein.iloc[:, 1] #decllination\n",
    "SNR_Einstein = Einstein.iloc[:, 2] #signal to noise ratio"
   ]
  },
  {
   "cell_type": "code",
   "execution_count": 46,
   "metadata": {},
   "outputs": [],
   "source": [
    "start = time.time() #start a time to see how long it takes\n",
    "\n",
    "def coor_data(dec1, dec2, ra1, ra2, snr1, snr2): \n",
    "    count = 0\n",
    "    THETA = [] #the angular separation\n",
    "    DEC1 = []\n",
    "    DEC2 = []\n",
    "    RA1 = []\n",
    "    RA2 = []\n",
    "    SNR1 = []\n",
    "    SNR2 = []\n",
    "    OFFSET = []\n",
    "    k = 0\n",
    "\n",
    "    for i in range(np.size(dec1)): \n",
    "        tmp1 = np.where( np.absolute(dec1[i] - dec2) < 1) \n",
    "        tmp2 = np.where( np.absolute(ra1[i]-ra2) * np.cos(dec2*(np.pi/180))  < 1 ) \n",
    "        resultArray = (np.intersect1d(tmp1, tmp2))\n",
    "        \n",
    "        if np.size(resultArray) or len(resultArray) == 0: \n",
    "            k = k +1\n",
    "            #continue\n",
    "        else: \n",
    "            for j in resultArray:\n",
    "                #count+= 1\n",
    "                theta_rad = np.sin(dec1[i]*np.pi/180) * np.sin(dec2[j]*np.pi/180) + np.cos(dec1[i]*np.pi/180)*np.cos(dec2[j]*np.pi/180)*np.cos(np.absolute(ra1[i]-ra2[j])*np.pi/180) #returns answer in rad\n",
    "                theta_arcsec = np.arccos(theta_rad) * 206265\n",
    "                if theta_arcsec < 360: \n",
    "                    if snr1[i] >= 2 and snr1[i] < 3:\n",
    "                        poserr1 = 73 \n",
    "                    elif snr1[i] >= 3 and snr1[i] < 4:\n",
    "                        poserr1 = 53\n",
    "                    elif snr1[i] >= 4 and snr1[i] < 6:\n",
    "                        poserr1 = 41 \n",
    "                    elif snr1[i] >= 6:\n",
    "                        poserr1 = 30\n",
    "                    else:\n",
    "                        continue \n",
    "                        \n",
    "                    poserr2 = snr2[j] \n",
    "                    confid = theta_arcsec/np.sqrt(poserr1**2 + poserr2**2) #finding theta hat\n",
    "                    #print(theta_arcsec)\n",
    "                    #k += 1\n",
    "                    #print(k)\n",
    "                    #if confid <= 2.6:\n",
    "                    THETA.append(theta_arcsec)\n",
    "                    OFFSET.append(confid)\n",
    "                    DEC1.append(dec1[i])\n",
    "                    DEC2.append(dec2[j])\n",
    "                    RA1.append(ra1[i])\n",
    "                    RA2.append(ra2[j])\n",
    "                    SNR1.append(snr1[i])\n",
    "                    SNR2.append(snr2[j])\n",
    "                    count = count + 1\n",
    "    print(count)\n",
    "    return THETA, OFFSET, DEC1, DEC2, RA1, RA2, SNR1, SNR2, count, k\n",
    "    \n",
    "                "
   ]
  },
  {
   "cell_type": "code",
   "execution_count": 47,
   "metadata": {},
   "outputs": [
    {
     "name": "stdout",
     "output_type": "stream",
     "text": [
      "Start...\n",
      "0\n",
      "End...\n"
     ]
    }
   ],
   "source": [
    "#Here is where you fun the function\n",
    "theta = []\n",
    "confidence = []\n",
    "dec_1 = []\n",
    "dec_2 = []\n",
    "ra_1 = []\n",
    "ra_2= []\n",
    "snr_1 = []\n",
    "snr_2 = []\n",
    "fileSize = 0\n",
    "other = 0\n",
    "\n",
    "\n",
    "print(\"Start...\")\n",
    "\n",
    "theta, confidence, dec_1, dec_2, ra_1, ra_2, snr_1, snr_2, fileSize, other = coor_data(DEC_Einstein, DEC_ROSAT, RA_Einstein, RA_ROSAT, SNR_Einstein, SNR_ROSAT)\n",
    "\n",
    "#theta, dec_E, dec_R, RA_E, RA_R = coor_data(DEC_Einstein, myDEC_ROSAT, RA_Einstein, myRA_ROSAT)\n",
    "print(\"End...\")\n",
    "#print(theta)"
   ]
  },
  {
   "cell_type": "code",
   "execution_count": 48,
   "metadata": {},
   "outputs": [
    {
     "name": "stdout",
     "output_type": "stream",
     "text": [
      "Writing file\n",
      "0\n",
      "46185\n",
      "finished\n"
     ]
    }
   ],
   "source": [
    "print(\"Writing file\")\n",
    "\n",
    "print(fileSize)\n",
    "print(other)\n",
    "with open(r'testEandR.txt', 'w') as fp:\n",
    "        for i in range(fileSize):\n",
    "            if i == 0:\n",
    "                fp.write(\"Theta(arcsec)\\tOffset\\tDEC-Einstein\\tDEC-ROSART\\tRA-Einstein\\tRA-ROSAT\\tSNR-Einstein\\tSNR-ROSAT\\n\")\n",
    "            else:\n",
    "                fp.write(\"%8.1f\\t%8.2f\\t%f\\t%f\\t%12.6f\\t%12.6f\\t%8.2f\\t%8.2f\\n\" %((theta[i]), (confidence[i]), (dec_1[i]), (dec_2[i]), (ra_1[i]), (ra_2[i]), (snr_1[i]), (snr_2[i]) ))\n",
    "          \n",
    "print(\"finished\")\n",
    "\n",
    "#print(f'Numpy: {time.time() - start} seconds')"
   ]
  },
  {
   "cell_type": "markdown",
   "metadata": {},
   "source": [
    "Ignore cells below"
   ]
  },
  {
   "cell_type": "code",
   "execution_count": 158,
   "metadata": {},
   "outputs": [
    {
     "name": "stdout",
     "output_type": "stream",
     "text": [
      "0\n",
      "638\n",
      "Writing file\n",
      "Numpy: 0.39554929733276367 seconds\n"
     ]
    }
   ],
   "source": [
    "start = time.time() #start a time to see how long it takes\n",
    "count = 0\n",
    "\n",
    "theta =[] #the angular separation\n",
    "k = 0\n",
    "\n",
    "for i in range(10): #(np.size(DEC_Einstein)): \n",
    "        \n",
    "        tmp = np.where( ((np.absolute(DEC_Einstein[i] - DEC_ROSAT) < 1)) & ( (np.absolute(RA_Einstein[i]-RA_ROSAT[i]) * np.cos(DEC_ROSAT*(np.pi/180)) )  < 1 ) )  #conditions it need to meet\n",
    "        #print(type(tmp))\n",
    "        #print(np.size(tmp))\n",
    "        if np.size(tmp) ==0: \n",
    "                continue\n",
    "        else: \n",
    "                for j in tmp:\n",
    "                        #print(tmp)\n",
    "                        count+= 1\n",
    "                        theta_rad = np.sin(DEC_Einstein[i]*np.pi/180)* np.sin(DEC_ROSAT[j]*np.pi/180) + np.cos(DEC_Einstein[i]*np.pi/180)*np.cos(DEC_ROSAT[j]*np.pi/180)*np.cos(np.absolute(RA_Einstein[i]-RA_ROSAT[j])*np.pi/180) #returns answer in rad\n",
    "                        #print(theta_rad)\n",
    "                        theta_arcsec = np.arccos(theta_rad) * 206265\n",
    "                        #print(theta_arcsec)\n",
    "                        #print(type(theta_arcsec))\n",
    "                        if (theta_arcsec < 300).all: \n",
    "                                np.append(theta, theta_arcsec)\n",
    "                                #print(theta)\n",
    "                                tmp_num = theta_arcsec\n",
    "                                k += 1\n",
    "\n",
    "                \n",
    "print(count)\n",
    "print(np.size(theta))\n",
    "#a = np.sin(90*np.pi/180)\n",
    "#print(a)\n",
    "\n",
    "ang_sep = np.zeros(count)\n",
    "#for i in range(count):\n",
    "    #ang_sep[i] = round(theta[i].value, 3)\n",
    "#    ang_sep[i] = theta[0][i]\n",
    "\n",
    "#print(np.shape(tmp))\n",
    "print(\"Writing file\")\n",
    "\n",
    "with open(r'test.txt', 'w') as fp:\n",
    "        for i in range(count):\n",
    "            if i == 0:\n",
    "                fp.write(\"Theta\\n\")\n",
    "            else:\n",
    "                fp.write(\"%f\\n\" %(theta[i]))\n",
    "\n",
    "print(f'Numpy: {time.time() - start} seconds')\n"
   ]
  },
  {
   "cell_type": "code",
   "execution_count": 51,
   "metadata": {},
   "outputs": [
    {
     "name": "stdout",
     "output_type": "stream",
     "text": [
      "755860\n",
      "4824\n",
      "4824\n",
      "Writing file\n",
      "Numpy: 140.42655205726624 seconds\n"
     ]
    }
   ],
   "source": [
    "start = time.time() #start a time to see how long it takes\n",
    "\n",
    "ROSAT = pd.read_csv(\"2rxs_lite.txt\", delim_whitespace=True)  \n",
    "Einstein = pd.read_csv(\"2sig_J2000_theta.txt\", delim_whitespace=True) #SDSS\n",
    "#Einstein = pd.read_csv(\"dr7_sara.csv\", sep=',', header = 1) #SDSS\n",
    "\n",
    "RA_ROSAT = ROSAT.iloc[:, 2] #right ascention\n",
    "DEC_ROSAT = ROSAT.iloc[:, 3] #decllination\n",
    "SNR_ROSAT = ROSAT.iloc[:, 4] #signal to noise ratio\n",
    "\n",
    "RA_Einstein = Einstein.iloc[:, 0] #right ascention\n",
    "DEC_Einstein = Einstein.iloc[:, 1] #decllination\n",
    "SNR_Einstein = Einstein.iloc[:, 2] #signal to noise ratio\n",
    "\n",
    "\n",
    "count = 0\n",
    "\n",
    "theta = [] #the angular separation\n",
    "k = 0\n",
    "\n",
    "for i in range(np.size(DEC_Einstein)): \n",
    "        \n",
    "        #tmp = np.where( ((np.absolute(DEC_Einstein[i] - DEC_ROSAT) < 1)) & ( (np.absolute(RA_Einstein[i]-RA_ROSAT[i]) * np.cos(DEC_ROSAT*(np.pi/180)) )  < 1 ) )  #conditions it need to meet\n",
    "        #print(type(tmp))\n",
    "        tmp1 = np.where( np.absolute(DEC_Einstein[i] - DEC_ROSAT) < 1) \n",
    "        tmp2 = np.where( np.absolute(RA_Einstein[i]-RA_ROSAT) * np.cos(DEC_ROSAT*(np.pi/180))  < 1 ) \n",
    "        resultArray = (np.intersect1d(tmp1, tmp2))\n",
    "        \n",
    "        #print(np.size(resultArray))\n",
    "        if np.size(resultArray) ==0: \n",
    "                continue\n",
    "        else: \n",
    "                for j in resultArray:\n",
    "                #tmp[0]:\n",
    "                        #j = tmp[0]\n",
    "                        #print(j)\n",
    "                        count+= 1\n",
    "                        theta_rad = np.sin(DEC_Einstein[i]*np.pi/180)* np.sin(DEC_ROSAT[j]*np.pi/180) + np.cos(DEC_Einstein[i]*np.pi/180)*np.cos(DEC_ROSAT[j]*np.pi/180)*np.cos(np.absolute(RA_Einstein[i]-RA_ROSAT[j])*np.pi/180) #returns answer in rad\n",
    "                        #print(theta_rad)\n",
    "                        theta_arcsec = np.arccos(theta_rad) * 206265\n",
    "                        #print(theta_arcsec)\n",
    "                        #print(type(theta_arcsec))\n",
    "                        if theta_arcsec < 360: \n",
    "                        \n",
    "                                if SNR_Einstein[i] >= 2 and SNR_Einstein[i] < 3:\n",
    "                                        poserr1 = 73 \n",
    "                                elif SNR_Einstein[i] >= 3 and SNR_Einstein[i] < 4:\n",
    "                                        poserr1 = 53\n",
    "                                elif SNR_Einstein[i] >= 4 and SNR_Einstein[i] < 6:\n",
    "                                        poserr1 = 41 \n",
    "                                elif SNR_Einstein[i] >= 6:\n",
    "                                        poserr1 = 30\n",
    "                                else:\n",
    "                                        continue \n",
    "                                        #this is for cases of snr less than 2. Is this not possible or do we ignore them?\n",
    "                                \n",
    "                                \n",
    "                                poserr2 = 1 #SNR_ROSAT[j] \n",
    "                                confid = theta_arcsec/np.sqrt(poserr1**2 + poserr2**2) #finding theta hat\n",
    "                                #print(theta_arcsec)\n",
    "                                if confid <= 2.6:\n",
    "                                        theta.append(theta_arcsec)\n",
    "                                        #d1.append(dec1[i])\n",
    "                                        #d2.append(dec2[j])\n",
    "                                        #ra1.append(RA1[i])\n",
    "                                        #ra2.append(RA2[j])\n",
    "                                        #snr1.append(SNR_Einstein[i])\n",
    "                                        #snr2.append(SNR_ROSAT[j])\n",
    "                                        #print(theta)\n",
    "                                        tmp_num = theta_arcsec\n",
    "                                        k += 1\n",
    "\n",
    "                \n",
    "print(count)\n",
    "print(k)\n",
    "print(np.size(theta))\n",
    "#a = np.sin(90*np.pi/180)\n",
    "#print(a)\n",
    "\n",
    "ang_sep = np.zeros(count)\n",
    "#for i in range(count):\n",
    "    #ang_sep[i] = round(theta[i].value, 3)\n",
    "#    ang_sep[i] = theta[0][i]\n",
    "\n",
    "#print(np.shape(tmp))\n",
    "print(\"Writing file\")\n",
    "\n",
    "with open(r'dr7rxs.txt', 'w') as fp:\n",
    "        for i in range(k):\n",
    "            if i == 0:\n",
    "                fp.write(\"Theta (arcsec)\\n\")\n",
    "            else:\n",
    "                fp.write(\"%f\\n\" %(theta[i]))\n",
    "\n",
    "print(f'Numpy: {time.time() - start} seconds')"
   ]
  },
  {
   "cell_type": "code",
   "execution_count": 127,
   "metadata": {},
   "outputs": [
    {
     "name": "stdout",
     "output_type": "stream",
     "text": [
      "57.503447\n"
     ]
    }
   ],
   "source": [
    "i = 50\n",
    "print(DEC_Einstein[i])\n",
    "tmp = np.where( ((np.absolute(DEC_Einstein[i] - DEC_ROSAT) < 1)) & ( (np.absolute(RA_Einstein[i]-RA_ROSAT) * np.cos(DEC_Einstein[i]*(np.pi/180)) )  < 1 ) )"
   ]
  },
  {
   "cell_type": "code",
   "execution_count": 128,
   "metadata": {},
   "outputs": [
    {
     "data": {
      "text/plain": [
       "74.7645"
      ]
     },
     "execution_count": 128,
     "metadata": {},
     "output_type": "execute_result"
    }
   ],
   "source": [
    "tmp\n",
    "DEC_ROSAT[621]"
   ]
  },
  {
   "cell_type": "code",
   "execution_count": 45,
   "metadata": {},
   "outputs": [
    {
     "name": "stdout",
     "output_type": "stream",
     "text": [
      "70.76032\n"
     ]
    }
   ],
   "source": [
    "print(DEC_ROSAT[527])\n"
   ]
  },
  {
   "cell_type": "code",
   "execution_count": 63,
   "metadata": {},
   "outputs": [],
   "source": [
    "arr = np.array([16, 12, 14, 15, 16, 17])\n",
    "arr2 = np.array([12, 15, 16, 10, 26, 12])\n",
    "# pass condition expression    only\n",
    "result = np.where((arr[0] > arr2) & (arr[0] > arr2 *1.50))"
   ]
  },
  {
   "cell_type": "code",
   "execution_count": 64,
   "metadata": {},
   "outputs": [
    {
     "data": {
      "text/plain": [
       "(array([3]),)"
      ]
     },
     "execution_count": 64,
     "metadata": {},
     "output_type": "execute_result"
    }
   ],
   "source": [
    "result"
   ]
  },
  {
   "cell_type": "code",
   "execution_count": 146,
   "metadata": {},
   "outputs": [
    {
     "name": "stdout",
     "output_type": "stream",
     "text": [
      "(array([36, 37, 38, 39, 40, 41, 42, 43, 44, 45, 46, 47, 48, 49, 50, 51, 52,\n",
      "       53, 54, 55, 56, 57, 58, 59, 60, 61, 62, 63, 64, 65, 66, 67, 68]),)\n",
      "(array([ 50,  53,  54,  65, 155, 167, 328, 593, 613, 615, 616, 619, 621,\n",
      "       636]),)\n",
      "<class 'numpy.ndarray'>\n"
     ]
    },
    {
     "name": "stderr",
     "output_type": "stream",
     "text": [
      "/var/folders/3f/g9qgz71j35z23v4byb9jtltc00031c/T/ipykernel_32108/3182480801.py:5: DeprecationWarning: elementwise comparison failed; this will raise an error in the future.\n",
      "  results = np.where( tmp == tmp2)\n"
     ]
    }
   ],
   "source": [
    "i = 50\n",
    "\n",
    "tmp1 = np.where( np.absolute(DEC_Einstein[i] - DEC_ROSAT) < 1) \n",
    "tmp2 = np.where( np.absolute(RA_Einstein[i]-RA_ROSAT) * np.cos(DEC_ROSAT*(np.pi/180))  < 1 ) \n",
    "resultArray = (np.intersect1d(tmp1, tmp2))\n",
    "\n",
    "type(resultArray)\n",
    "\n",
    "#print(tmp2)"
   ]
  },
  {
   "cell_type": "code",
   "execution_count": 118,
   "metadata": {},
   "outputs": [
    {
     "name": "stdout",
     "output_type": "stream",
     "text": [
      "57.503447\n"
     ]
    },
    {
     "data": {
      "text/plain": [
       "(array([36, 37, 38, 39, 40, 41, 42, 43, 44, 45, 46, 47, 48, 49, 50, 51, 52,\n",
       "        53, 54, 55, 56, 57, 58, 59, 60, 61, 62, 63, 64, 65, 66, 67, 68]),)"
      ]
     },
     "execution_count": 118,
     "metadata": {},
     "output_type": "execute_result"
    }
   ],
   "source": [
    "i = 50\n",
    "tmp = np.where( (np.absolute(DEC_Einstein[i] - DEC_ROSAT) < 1) )\n",
    "print(DEC_Einstein[i])\n",
    "tmp"
   ]
  },
  {
   "cell_type": "code",
   "execution_count": 119,
   "metadata": {},
   "outputs": [],
   "source": [
    "#print(DEC_ROSAT[36:68]) \n",
    "array([50, 53, 54, 65]),)"
   ]
  },
  {
   "cell_type": "code",
   "execution_count": 120,
   "metadata": {},
   "outputs": [
    {
     "name": "stdout",
     "output_type": "stream",
     "text": [
      "RA of E 122.823387\n",
      "DEC of E 57.503447\n"
     ]
    },
    {
     "data": {
      "text/plain": [
       "(array([ 50,  53,  54,  65, 155, 167, 328, 613, 619, 621, 636]),)"
      ]
     },
     "execution_count": 120,
     "metadata": {},
     "output_type": "execute_result"
    }
   ],
   "source": [
    "i = 50\n",
    "tmp = np.where( np.absolute(RA_Einstein[i]-RA_ROSAT) * np.cos(DEC_Einstein[i]*(np.pi/180)) < 1 ) \n",
    "print(\"RA of E\",RA_Einstein[i])\n",
    "print(\"DEC of E\",DEC_Einstein[i])\n",
    "tmp\n"
   ]
  },
  {
   "cell_type": "code",
   "execution_count": 75,
   "metadata": {},
   "outputs": [
    {
     "data": {
      "text/plain": [
       "122.79224"
      ]
     },
     "execution_count": 75,
     "metadata": {},
     "output_type": "execute_result"
    }
   ],
   "source": [
    "RA_ROSAT[50]"
   ]
  },
  {
   "cell_type": "code",
   "execution_count": 80,
   "metadata": {},
   "outputs": [
    {
     "data": {
      "text/plain": [
       "'import numpy as np\\n  \\n# Create two multidimensional arrays of \\n# integer values\\nnp_arr1 = np.array([[6, 13, 22, 7, 12],  \\n                    [7, 11, 16, 32, 9]])\\nnp_arr2 = np.array([[44, 20, 8, 35, 10],  \\n                    [98, 23, 42, 6, 13]])\\n  \\n# Print the array values\\nprint(\"\\nThe values of the first array :\\n\", np_arr1)\\nprint(\"\\nThe values of the second array :\\n\", np_arr2)\\n  \\n# Create a new array from two arrays based on\\n# the conditions\\nnew_arr = np.where(((np_arr1 % 2 == 0) & (np_arr2 % 2 == 1)), \\n                   np_arr1, np_arr2)\\n  \\n# Print the new array\\nprint(\"\\nThe filtered values of both arrays :\\n\", new_arr)'"
      ]
     },
     "execution_count": 80,
     "metadata": {},
     "output_type": "execute_result"
    }
   ],
   "source": [
    "\"\"\"import numpy as np\n",
    "  \n",
    "# Create two multidimensional arrays of \n",
    "# integer values\n",
    "np_arr1 = np.array([[6, 13, 22, 7, 12],  \n",
    "                    [7, 11, 16, 32, 9]])\n",
    "np_arr2 = np.array([[44, 20, 8, 35, 10],  \n",
    "                    [98, 23, 42, 6, 13]])\n",
    "  \n",
    "# Print the array values\n",
    "print(\"\\nThe values of the first array :\\n\", np_arr1)\n",
    "print(\"\\nThe values of the second array :\\n\", np_arr2)\n",
    "  \n",
    "# Create a new array from two arrays based on\n",
    "# the conditions\n",
    "new_arr = np.where(((np_arr1 % 2 == 0) & (np_arr2 % 2 == 1)), \n",
    "                   np_arr1, np_arr2)\n",
    "  \n",
    "# Print the new array\n",
    "print(\"\\nThe filtered values of both arrays :\\n\", new_arr)\"\"\""
   ]
  },
  {
   "cell_type": "code",
   "execution_count": 96,
   "metadata": {},
   "outputs": [
    {
     "name": "stdout",
     "output_type": "stream",
     "text": [
      "0.9999999921701705\n",
      "25.811704851343713\n"
     ]
    }
   ],
   "source": [
    "i = j = 1\n",
    "\n",
    "theta_rad = np.sin(DEC_Einstein[i]*np.pi/180)* np.sin(DEC_ROSAT[j]*np.pi/180) + np.cos(DEC_Einstein[i]*np.pi/180)*np.cos(DEC_ROSAT[j]*np.pi/180)*np.cos(np.absolute(RA_Einstein[i]-RA_ROSAT[j])*np.pi/180) #returns answer in rad\n",
    "print(theta_rad)\n",
    "print(np.arccos(theta_rad)*206265)"
   ]
  },
  {
   "cell_type": "code",
   "execution_count": 94,
   "metadata": {},
   "outputs": [
    {
     "data": {
      "text/plain": [
       "55.137461"
      ]
     },
     "execution_count": 94,
     "metadata": {},
     "output_type": "execute_result"
    }
   ],
   "source": [
    "DEC_Einstein[i]"
   ]
  },
  {
   "cell_type": "code",
   "execution_count": 95,
   "metadata": {},
   "outputs": [
    {
     "data": {
      "text/plain": [
       "55.13077"
      ]
     },
     "execution_count": 95,
     "metadata": {},
     "output_type": "execute_result"
    }
   ],
   "source": [
    "DEC_ROSAT[j]"
   ]
  },
  {
   "cell_type": "code",
   "execution_count": 130,
   "metadata": {},
   "outputs": [
    {
     "ename": "TypeError",
     "evalue": "'>' not supported between instances of 'list' and 'int'",
     "output_type": "error",
     "traceback": [
      "\u001b[0;31m---------------------------------------------------------------------------\u001b[0m",
      "\u001b[0;31mTypeError\u001b[0m                                 Traceback (most recent call last)",
      "\u001b[1;32m/Users/snegussie/Documents/Negussie Research Folder/Einstein-ROSAT/roy_test.ipynb Cell 19'\u001b[0m in \u001b[0;36m<cell line: 2>\u001b[0;34m()\u001b[0m\n\u001b[1;32m      <a href='vscode-notebook-cell:/Users/snegussie/Documents/Negussie%20Research%20Folder/Einstein-ROSAT/roy_test.ipynb#ch0000019?line=0'>1</a>\u001b[0m a \u001b[39m=\u001b[39m [\u001b[39m0\u001b[39m, \u001b[39m1\u001b[39m, \u001b[39m2\u001b[39m, \u001b[39m3\u001b[39m, \u001b[39m4\u001b[39m, \u001b[39m5\u001b[39m, \u001b[39m6\u001b[39m, \u001b[39m7\u001b[39m]\n\u001b[0;32m----> <a href='vscode-notebook-cell:/Users/snegussie/Documents/Negussie%20Research%20Folder/Einstein-ROSAT/roy_test.ipynb#ch0000019?line=1'>2</a>\u001b[0m \u001b[39mprint\u001b[39m(np\u001b[39m.\u001b[39mwhere((a \u001b[39m>\u001b[39;49m \u001b[39m2\u001b[39;49m) \u001b[39m&\u001b[39m (a \u001b[39m<\u001b[39m \u001b[39m6\u001b[39m) \u001b[39m|\u001b[39m (a \u001b[39m==\u001b[39m \u001b[39m7\u001b[39m)))\n",
      "\u001b[0;31mTypeError\u001b[0m: '>' not supported between instances of 'list' and 'int'"
     ]
    }
   ],
   "source": [
    "a = [0, 1, 2, 3, 4, 5, 6, 7]\n",
    "print(np.where((a > 2) & (a < 6) | (a == 7)))"
   ]
  },
  {
   "cell_type": "code",
   "execution_count": null,
   "metadata": {},
   "outputs": [],
   "source": []
  }
 ],
 "metadata": {
  "kernelspec": {
   "display_name": "Python 3.8.2 64-bit",
   "language": "python",
   "name": "python3"
  },
  "language_info": {
   "codemirror_mode": {
    "name": "ipython",
    "version": 3
   },
   "file_extension": ".py",
   "mimetype": "text/x-python",
   "name": "python",
   "nbconvert_exporter": "python",
   "pygments_lexer": "ipython3",
   "version": "3.8.2"
  },
  "orig_nbformat": 4,
  "vscode": {
   "interpreter": {
    "hash": "31f2aee4e71d21fbe5cf8b01ff0e069b9275f58929596ceb00d14d90e3e16cd6"
   }
  }
 },
 "nbformat": 4,
 "nbformat_minor": 2
}
