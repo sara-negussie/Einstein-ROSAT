{
 "cells": [
  {
   "cell_type": "markdown",
   "metadata": {},
   "source": [
    "Working angular sep"
   ]
  },
  {
   "cell_type": "code",
   "execution_count": 23,
   "metadata": {},
   "outputs": [],
   "source": [
    "#import packages \n",
    "import numpy as np\n",
    "import pandas as pd\n",
    "import time"
   ]
  },
  {
   "cell_type": "code",
   "execution_count": 24,
   "metadata": {},
   "outputs": [],
   "source": [
    "ROSAT = pd.read_csv(\"2rxs_lite.txt\", delim_whitespace=True)  \n",
    "Einstein = pd.read_csv(\"2sig_J2000_theta.txt\", delim_whitespace=True)\n",
    "\n",
    "RA_ROSAT = ROSAT.iloc[:, 2] #right ascention\n",
    "DEC_ROSAT = ROSAT.iloc[:, 3] #decllination\n",
    "SNR_ROSAT = ROSAT.iloc[:, 4] #signal to noise ratio\n",
    "\n",
    "RA_Einstein = Einstein.iloc[:, 0] #right ascention\n",
    "DEC_Einstein = Einstein.iloc[:, 1] #decllination\n",
    "SNR_Einstein = Einstein.iloc[:, 2] #signal to noise ratio"
   ]
  },
  {
   "cell_type": "code",
   "execution_count": 31,
   "metadata": {},
   "outputs": [],
   "source": [
    "start = time.time() #start a time to see how long it takes\n",
    "\n",
    "def coor_data(dec1, dec2, ra1, ra2, snr1, snr2): \n",
    "    count = 0\n",
    "    THETA = [] #the angular separation\n",
    "    DEC1 = []\n",
    "    DEC2 = []\n",
    "    RA1 = []\n",
    "    RA2 = []\n",
    "    SNR1 = []\n",
    "    SNR2 = []\n",
    "    OFFSET = []\n",
    "    k = 0\n",
    "\n",
    "    for i in range(np.size(dec1)): \n",
    "        tmp1 = np.where( np.absolute(dec1[i] - dec2) < 1) \n",
    "        tmp2 = np.where( np.absolute(ra1[i]-ra2) * np.cos(dec2*(np.pi/180))  < 1 ) \n",
    "        resultArray = (np.intersect1d(tmp1, tmp2))\n",
    "        \n",
    "        if np.size(resultArray) or len(resultArray) == 0: \n",
    "            continue\n",
    "        else: \n",
    "            for j in resultArray:\n",
    "                count+= 1\n",
    "                theta_rad = np.sin(dec1[i]*np.pi/180) * np.sin(dec2[j]*np.pi/180) + np.cos(dec1[i]*np.pi/180)*np.cos(dec2[j]*np.pi/180)*np.cos(np.absolute(ra1[i]-ra2[j])*np.pi/180) #returns answer in rad\n",
    "                theta_arcsec = np.arccos(theta_rad) * 206265\n",
    "                if theta_arcsec < 360: \n",
    "                    if snr1[i] >= 2 and snr1[i] < 3:\n",
    "                        poserr1 = 73 \n",
    "                    elif snr1[i] >= 3 and snr1[i] < 4:\n",
    "                        poserr1 = 53\n",
    "                    elif snr1[i] >= 4 and snr1[i] < 6:\n",
    "                        poserr1 = 41 \n",
    "                    elif snr1[i] >= 6:\n",
    "                        poserr1 = 30\n",
    "                    else:\n",
    "                        continue \n",
    "                        \n",
    "                    poserr2 = snr2[j] \n",
    "                    confid = theta_arcsec/np.sqrt(poserr1**2 + poserr2**2) #finding theta hat\n",
    "                    #print(theta_arcsec)\n",
    "                    k += 1\n",
    "                    print(k)\n",
    "                    if confid <= 2.6:\n",
    "                        THETA.append(theta_arcsec)\n",
    "                        OFFSET.append(confid)\n",
    "                        DEC1.append(dec1[i])\n",
    "                        DEC2.append(dec2[j])\n",
    "                        RA1.append(ra1[i])\n",
    "                        RA2.append(ra2[j])\n",
    "                        SNR1.append(snr1[i])\n",
    "                        SNR2.append(snr2[j])\n",
    "                        count = count + 1\n",
    "    return THETA, OFFSET, DEC1, DEC2, RA1, RA2, SNR1, SNR2, count\n",
    "\n",
    "                "
   ]
  },
  {
   "cell_type": "code",
   "execution_count": 32,
   "metadata": {},
   "outputs": [
    {
     "name": "stdout",
     "output_type": "stream",
     "text": [
      "Start...\n"
     ]
    },
    {
     "ename": "KeyboardInterrupt",
     "evalue": "",
     "output_type": "error",
     "traceback": [
      "\u001b[0;31m---------------------------------------------------------------------------\u001b[0m",
      "\u001b[0;31mKeyboardInterrupt\u001b[0m                         Traceback (most recent call last)",
      "\u001b[1;32m/Users/snegussie/Documents/Negussie Research Folder/Einstein-ROSAT/FinalAngSep.ipynb Cell 5'\u001b[0m in \u001b[0;36m<cell line: 15>\u001b[0;34m()\u001b[0m\n\u001b[1;32m     <a href='vscode-notebook-cell:/Users/snegussie/Documents/Negussie%20Research%20Folder/Einstein-ROSAT/FinalAngSep.ipynb#ch0000028?line=9'>10</a>\u001b[0m fileSize \u001b[39m=\u001b[39m []\n\u001b[1;32m     <a href='vscode-notebook-cell:/Users/snegussie/Documents/Negussie%20Research%20Folder/Einstein-ROSAT/FinalAngSep.ipynb#ch0000028?line=12'>13</a>\u001b[0m \u001b[39mprint\u001b[39m(\u001b[39m\"\u001b[39m\u001b[39mStart...\u001b[39m\u001b[39m\"\u001b[39m)\n\u001b[0;32m---> <a href='vscode-notebook-cell:/Users/snegussie/Documents/Negussie%20Research%20Folder/Einstein-ROSAT/FinalAngSep.ipynb#ch0000028?line=14'>15</a>\u001b[0m theta, confidence, dec_1, dec_2, ra_1, ra_2, snr_1, snr_2, fileSize \u001b[39m=\u001b[39m coor_data(DEC_Einstein, DEC_ROSAT, RA_Einstein, RA_ROSAT, SNR_Einstein, SNR_ROSAT)\n\u001b[1;32m     <a href='vscode-notebook-cell:/Users/snegussie/Documents/Negussie%20Research%20Folder/Einstein-ROSAT/FinalAngSep.ipynb#ch0000028?line=16'>17</a>\u001b[0m \u001b[39m#theta, dec_E, dec_R, RA_E, RA_R = coor_data(DEC_Einstein, myDEC_ROSAT, RA_Einstein, myRA_ROSAT)\u001b[39;00m\n\u001b[1;32m     <a href='vscode-notebook-cell:/Users/snegussie/Documents/Negussie%20Research%20Folder/Einstein-ROSAT/FinalAngSep.ipynb#ch0000028?line=17'>18</a>\u001b[0m \u001b[39mprint\u001b[39m(\u001b[39m\"\u001b[39m\u001b[39mEnd...\u001b[39m\u001b[39m\"\u001b[39m)\n",
      "\u001b[1;32m/Users/snegussie/Documents/Negussie Research Folder/Einstein-ROSAT/FinalAngSep.ipynb Cell 4'\u001b[0m in \u001b[0;36mcoor_data\u001b[0;34m(dec1, dec2, ra1, ra2, snr1, snr2)\u001b[0m\n\u001b[1;32m     <a href='vscode-notebook-cell:/Users/snegussie/Documents/Negussie%20Research%20Folder/Einstein-ROSAT/FinalAngSep.ipynb#ch0000024?line=14'>15</a>\u001b[0m \u001b[39mfor\u001b[39;00m i \u001b[39min\u001b[39;00m \u001b[39mrange\u001b[39m(np\u001b[39m.\u001b[39msize(dec1)): \n\u001b[1;32m     <a href='vscode-notebook-cell:/Users/snegussie/Documents/Negussie%20Research%20Folder/Einstein-ROSAT/FinalAngSep.ipynb#ch0000024?line=15'>16</a>\u001b[0m     tmp1 \u001b[39m=\u001b[39m np\u001b[39m.\u001b[39mwhere( np\u001b[39m.\u001b[39mabsolute(dec1[i] \u001b[39m-\u001b[39m dec2) \u001b[39m<\u001b[39m \u001b[39m1\u001b[39m) \n\u001b[0;32m---> <a href='vscode-notebook-cell:/Users/snegussie/Documents/Negussie%20Research%20Folder/Einstein-ROSAT/FinalAngSep.ipynb#ch0000024?line=16'>17</a>\u001b[0m     tmp2 \u001b[39m=\u001b[39m np\u001b[39m.\u001b[39mwhere( np\u001b[39m.\u001b[39mabsolute(ra1[i]\u001b[39m-\u001b[39mra2) \u001b[39m*\u001b[39m np\u001b[39m.\u001b[39mcos(dec2\u001b[39m*\u001b[39;49m(np\u001b[39m.\u001b[39;49mpi\u001b[39m/\u001b[39;49m\u001b[39m180\u001b[39;49m))  \u001b[39m<\u001b[39m \u001b[39m1\u001b[39m ) \n\u001b[1;32m     <a href='vscode-notebook-cell:/Users/snegussie/Documents/Negussie%20Research%20Folder/Einstein-ROSAT/FinalAngSep.ipynb#ch0000024?line=17'>18</a>\u001b[0m     resultArray \u001b[39m=\u001b[39m (np\u001b[39m.\u001b[39mintersect1d(tmp1, tmp2))\n\u001b[1;32m     <a href='vscode-notebook-cell:/Users/snegussie/Documents/Negussie%20Research%20Folder/Einstein-ROSAT/FinalAngSep.ipynb#ch0000024?line=19'>20</a>\u001b[0m     \u001b[39mif\u001b[39;00m np\u001b[39m.\u001b[39msize(resultArray) \u001b[39mor\u001b[39;00m \u001b[39mlen\u001b[39m(resultArray) \u001b[39m==\u001b[39m \u001b[39m0\u001b[39m: \n",
      "File \u001b[0;32m~/Library/Python/3.8/lib/python/site-packages/pandas/core/ops/common.py:70\u001b[0m, in \u001b[0;36m_unpack_zerodim_and_defer.<locals>.new_method\u001b[0;34m(self, other)\u001b[0m\n\u001b[1;32m     66\u001b[0m             \u001b[39mreturn\u001b[39;00m \u001b[39mNotImplemented\u001b[39m\n\u001b[1;32m     68\u001b[0m other \u001b[39m=\u001b[39m item_from_zerodim(other)\n\u001b[0;32m---> 70\u001b[0m \u001b[39mreturn\u001b[39;00m method(\u001b[39mself\u001b[39;49m, other)\n",
      "File \u001b[0;32m~/Library/Python/3.8/lib/python/site-packages/pandas/core/arraylike.py:116\u001b[0m, in \u001b[0;36mOpsMixin.__mul__\u001b[0;34m(self, other)\u001b[0m\n\u001b[1;32m    114\u001b[0m \u001b[39m@unpack_zerodim_and_defer\u001b[39m(\u001b[39m\"\u001b[39m\u001b[39m__mul__\u001b[39m\u001b[39m\"\u001b[39m)\n\u001b[1;32m    115\u001b[0m \u001b[39mdef\u001b[39;00m \u001b[39m__mul__\u001b[39m(\u001b[39mself\u001b[39m, other):\n\u001b[0;32m--> 116\u001b[0m     \u001b[39mreturn\u001b[39;00m \u001b[39mself\u001b[39;49m\u001b[39m.\u001b[39;49m_arith_method(other, operator\u001b[39m.\u001b[39;49mmul)\n",
      "File \u001b[0;32m~/Library/Python/3.8/lib/python/site-packages/pandas/core/series.py:5639\u001b[0m, in \u001b[0;36mSeries._arith_method\u001b[0;34m(self, other, op)\u001b[0m\n\u001b[1;32m   5637\u001b[0m \u001b[39mdef\u001b[39;00m \u001b[39m_arith_method\u001b[39m(\u001b[39mself\u001b[39m, other, op):\n\u001b[1;32m   5638\u001b[0m     \u001b[39mself\u001b[39m, other \u001b[39m=\u001b[39m ops\u001b[39m.\u001b[39malign_method_SERIES(\u001b[39mself\u001b[39m, other)\n\u001b[0;32m-> 5639\u001b[0m     \u001b[39mreturn\u001b[39;00m base\u001b[39m.\u001b[39;49mIndexOpsMixin\u001b[39m.\u001b[39;49m_arith_method(\u001b[39mself\u001b[39;49m, other, op)\n",
      "File \u001b[0;32m~/Library/Python/3.8/lib/python/site-packages/pandas/core/base.py:1295\u001b[0m, in \u001b[0;36mIndexOpsMixin._arith_method\u001b[0;34m(self, other, op)\u001b[0m\n\u001b[1;32m   1292\u001b[0m rvalues \u001b[39m=\u001b[39m ensure_wrapped_if_datetimelike(rvalues)\n\u001b[1;32m   1294\u001b[0m \u001b[39mwith\u001b[39;00m np\u001b[39m.\u001b[39merrstate(\u001b[39mall\u001b[39m\u001b[39m=\u001b[39m\u001b[39m\"\u001b[39m\u001b[39mignore\u001b[39m\u001b[39m\"\u001b[39m):\n\u001b[0;32m-> 1295\u001b[0m     result \u001b[39m=\u001b[39m ops\u001b[39m.\u001b[39;49marithmetic_op(lvalues, rvalues, op)\n\u001b[1;32m   1297\u001b[0m \u001b[39mreturn\u001b[39;00m \u001b[39mself\u001b[39m\u001b[39m.\u001b[39m_construct_result(result, name\u001b[39m=\u001b[39mres_name)\n",
      "File \u001b[0;32m~/Library/Python/3.8/lib/python/site-packages/pandas/core/ops/array_ops.py:222\u001b[0m, in \u001b[0;36marithmetic_op\u001b[0;34m(left, right, op)\u001b[0m\n\u001b[1;32m    217\u001b[0m \u001b[39melse\u001b[39;00m:\n\u001b[1;32m    218\u001b[0m     \u001b[39m# TODO we should handle EAs consistently and move this check before the if/else\u001b[39;00m\n\u001b[1;32m    219\u001b[0m     \u001b[39m# (https://github.com/pandas-dev/pandas/issues/41165)\u001b[39;00m\n\u001b[1;32m    220\u001b[0m     _bool_arith_check(op, left, right)\n\u001b[0;32m--> 222\u001b[0m     res_values \u001b[39m=\u001b[39m _na_arithmetic_op(left, right, op)\n\u001b[1;32m    224\u001b[0m \u001b[39mreturn\u001b[39;00m res_values\n",
      "File \u001b[0;32m~/Library/Python/3.8/lib/python/site-packages/pandas/core/ops/array_ops.py:163\u001b[0m, in \u001b[0;36m_na_arithmetic_op\u001b[0;34m(left, right, op, is_cmp)\u001b[0m\n\u001b[1;32m    160\u001b[0m     func \u001b[39m=\u001b[39m partial(expressions\u001b[39m.\u001b[39mevaluate, op)\n\u001b[1;32m    162\u001b[0m \u001b[39mtry\u001b[39;00m:\n\u001b[0;32m--> 163\u001b[0m     result \u001b[39m=\u001b[39m func(left, right)\n\u001b[1;32m    164\u001b[0m \u001b[39mexcept\u001b[39;00m \u001b[39mTypeError\u001b[39;00m:\n\u001b[1;32m    165\u001b[0m     \u001b[39mif\u001b[39;00m \u001b[39mnot\u001b[39;00m is_cmp \u001b[39mand\u001b[39;00m (is_object_dtype(left\u001b[39m.\u001b[39mdtype) \u001b[39mor\u001b[39;00m is_object_dtype(right)):\n\u001b[1;32m    166\u001b[0m         \u001b[39m# For object dtype, fallback to a masked operation (only operating\u001b[39;00m\n\u001b[1;32m    167\u001b[0m         \u001b[39m#  on the non-missing values)\u001b[39;00m\n\u001b[1;32m    168\u001b[0m         \u001b[39m# Don't do this for comparisons, as that will handle complex numbers\u001b[39;00m\n\u001b[1;32m    169\u001b[0m         \u001b[39m#  incorrectly, see GH#32047\u001b[39;00m\n",
      "File \u001b[0;32m~/Library/Python/3.8/lib/python/site-packages/pandas/core/computation/expressions.py:239\u001b[0m, in \u001b[0;36mevaluate\u001b[0;34m(op, a, b, use_numexpr)\u001b[0m\n\u001b[1;32m    236\u001b[0m \u001b[39mif\u001b[39;00m op_str \u001b[39mis\u001b[39;00m \u001b[39mnot\u001b[39;00m \u001b[39mNone\u001b[39;00m:\n\u001b[1;32m    237\u001b[0m     \u001b[39mif\u001b[39;00m use_numexpr:\n\u001b[1;32m    238\u001b[0m         \u001b[39m# error: \"None\" not callable\u001b[39;00m\n\u001b[0;32m--> 239\u001b[0m         \u001b[39mreturn\u001b[39;00m _evaluate(op, op_str, a, b)  \u001b[39m# type: ignore[misc]\u001b[39;00m\n\u001b[1;32m    240\u001b[0m \u001b[39mreturn\u001b[39;00m _evaluate_standard(op, op_str, a, b)\n",
      "File \u001b[0;32m~/Library/Python/3.8/lib/python/site-packages/pandas/core/computation/expressions.py:69\u001b[0m, in \u001b[0;36m_evaluate_standard\u001b[0;34m(op, op_str, a, b)\u001b[0m\n\u001b[1;32m     67\u001b[0m \u001b[39mif\u001b[39;00m _TEST_MODE:\n\u001b[1;32m     68\u001b[0m     _store_test_result(\u001b[39mFalse\u001b[39;00m)\n\u001b[0;32m---> 69\u001b[0m \u001b[39mreturn\u001b[39;00m op(a, b)\n",
      "\u001b[0;31mKeyboardInterrupt\u001b[0m: "
     ]
    }
   ],
   "source": [
    "#Here is where you fun the function\n",
    "theta = []\n",
    "confidence = []\n",
    "dec_1 = []\n",
    "dec_2 = []\n",
    "ra_1 = []\n",
    "ra_2= []\n",
    "snr_1 = []\n",
    "snr_2 = []\n",
    "fileSize = []\n",
    "\n",
    "\n",
    "print(\"Start...\")\n",
    "\n",
    "theta, confidence, dec_1, dec_2, ra_1, ra_2, snr_1, snr_2, fileSize = coor_data(DEC_Einstein, DEC_ROSAT, RA_Einstein, RA_ROSAT, SNR_Einstein, SNR_ROSAT)\n",
    "\n",
    "#theta, dec_E, dec_R, RA_E, RA_R = coor_data(DEC_Einstein, myDEC_ROSAT, RA_Einstein, myRA_ROSAT)\n",
    "print(\"End...\")\n",
    "#print(theta)"
   ]
  },
  {
   "cell_type": "code",
   "execution_count": 30,
   "metadata": {},
   "outputs": [
    {
     "name": "stdout",
     "output_type": "stream",
     "text": [
      "Writing file\n",
      "1\n",
      "finished\n"
     ]
    }
   ],
   "source": [
    "print(\"Writing file\")\n",
    "\n",
    "print(np.size(fileSize))\n",
    "with open(r'testEandR.txt', 'w') as fp:\n",
    "        for i in range(fileSize):\n",
    "            if i == 0:\n",
    "                fp.write(\"Theta(arcsec)\\tOffset\\tDEC-Einstein\\tDEC-ROSART\\tRA-Einstein\\tRA-ROSAT\\tSNR-Einstein\\tSNR-ROSAT\\n\")\n",
    "            else:\n",
    "                fp.write(\"%8.1f\\t%8.2f\\t%f\\t%f\\t%12.6f\\t%12.6f\\t%8.2f\\t%8.2f\\n\" %((theta[i]), (confidence[i]), (dec_1[i]), (dec_2[i]), (ra_1[i]), (ra_2[i]), (snr_1[i]), (snr_2[i]) ))\n",
    "            \n",
    "print(\"finished\")\n",
    "\n",
    "#print(f'Numpy: {time.time() - start} seconds')"
   ]
  },
  {
   "cell_type": "markdown",
   "metadata": {},
   "source": [
    "Ignore cells below"
   ]
  },
  {
   "cell_type": "code",
   "execution_count": 158,
   "metadata": {},
   "outputs": [
    {
     "name": "stdout",
     "output_type": "stream",
     "text": [
      "0\n",
      "638\n",
      "Writing file\n",
      "Numpy: 0.39554929733276367 seconds\n"
     ]
    }
   ],
   "source": [
    "start = time.time() #start a time to see how long it takes\n",
    "count = 0\n",
    "\n",
    "theta =[]] #the angular separation\n",
    "k = 0\n",
    "\n",
    "for i in range(10): #(np.size(DEC_Einstein)): \n",
    "        \n",
    "        tmp = np.where( ((np.absolute(DEC_Einstein[i] - DEC_ROSAT) < 1)) & ( (np.absolute(RA_Einstein[i]-RA_ROSAT[i]) * np.cos(DEC_ROSAT*(np.pi/180)) )  < 1 ) )  #conditions it need to meet\n",
    "        #print(type(tmp))\n",
    "        #print(np.size(tmp))\n",
    "        if np.size(tmp) ==0: \n",
    "                continue\n",
    "        else: \n",
    "                for j in tmp:\n",
    "                        #print(tmp)\n",
    "                        count+= 1\n",
    "                        theta_rad = np.sin(DEC_Einstein[i]*np.pi/180)* np.sin(DEC_ROSAT[j]*np.pi/180) + np.cos(DEC_Einstein[i]*np.pi/180)*np.cos(DEC_ROSAT[j]*np.pi/180)*np.cos(np.absolute(RA_Einstein[i]-RA_ROSAT[j])*np.pi/180) #returns answer in rad\n",
    "                        #print(theta_rad)\n",
    "                        theta_arcsec = np.arccos(theta_rad) * 206265\n",
    "                        #print(theta_arcsec)\n",
    "                        #print(type(theta_arcsec))\n",
    "                        if (theta_arcsec < 300).all: \n",
    "                                np.append(theta, theta_arcsec)\n",
    "                                #print(theta)\n",
    "                                tmp_num = theta_arcsec\n",
    "                                k += 1\n",
    "\n",
    "                \n",
    "print(count)\n",
    "print(np.size(theta))\n",
    "#a = np.sin(90*np.pi/180)\n",
    "#print(a)\n",
    "\n",
    "ang_sep = np.zeros(count)\n",
    "#for i in range(count):\n",
    "    #ang_sep[i] = round(theta[i].value, 3)\n",
    "#    ang_sep[i] = theta[0][i]\n",
    "\n",
    "#print(np.shape(tmp))\n",
    "print(\"Writing file\")\n",
    "\n",
    "with open(r'test.txt', 'w') as fp:\n",
    "        for i in range(count):\n",
    "            if i == 0:\n",
    "                fp.write(\"Theta\\n\")\n",
    "            else:\n",
    "                fp.write(\"%f\\n\" %(theta[i]))\n",
    "\n",
    "print(f'Numpy: {time.time() - start} seconds')\n"
   ]
  },
  {
   "cell_type": "code",
   "execution_count": 161,
   "metadata": {},
   "outputs": [
    {
     "name": "stdout",
     "output_type": "stream",
     "text": [
      "755860\n",
      "4955\n",
      "4955\n",
      "Writing file\n",
      "Numpy: 148.27873516082764 seconds\n"
     ]
    }
   ],
   "source": [
    "start = time.time() #start a time to see how long it takes\n",
    "\n",
    "ROSAT = pd.read_csv(\"2rxs_lite.txt\", delim_whitespace=True)  \n",
    "Einstein = pd.read_csv(\"2sig_J2000_theta.txt\", delim_whitespace=True)\n",
    "\n",
    "RA_ROSAT = ROSAT.iloc[:, 2] #right ascention\n",
    "DEC_ROSAT = ROSAT.iloc[:, 3] #decllination\n",
    "SNR_ROSAT = ROSAT.iloc[:, 4] #signal to noise ratio\n",
    "\n",
    "RA_Einstein = Einstein.iloc[:, 0] #right ascention\n",
    "DEC_Einstein = Einstein.iloc[:, 1] #decllination\n",
    "SNR_Einstein = Einstein.iloc[:, 2] #signal to noise ratio\n",
    "\n",
    "\n",
    "count = 0\n",
    "\n",
    "theta = [] #the angular separation\n",
    "k = 0\n",
    "\n",
    "for i in range(np.size(DEC_Einstein)): \n",
    "        \n",
    "        #tmp = np.where( ((np.absolute(DEC_Einstein[i] - DEC_ROSAT) < 1)) & ( (np.absolute(RA_Einstein[i]-RA_ROSAT[i]) * np.cos(DEC_ROSAT*(np.pi/180)) )  < 1 ) )  #conditions it need to meet\n",
    "        #print(type(tmp))\n",
    "        tmp1 = np.where( np.absolute(DEC_Einstein[i] - DEC_ROSAT) < 1) \n",
    "        tmp2 = np.where( np.absolute(RA_Einstein[i]-RA_ROSAT) * np.cos(DEC_ROSAT*(np.pi/180))  < 1 ) \n",
    "        resultArray = (np.intersect1d(tmp1, tmp2))\n",
    "        \n",
    "        #print(np.size(resultArray))\n",
    "        if np.size(resultArray) ==0: \n",
    "                continue\n",
    "        else: \n",
    "                for j in resultArray:\n",
    "                #tmp[0]:\n",
    "                        #j = tmp[0]\n",
    "                        #print(j)\n",
    "                        count+= 1\n",
    "                        theta_rad = np.sin(DEC_Einstein[i]*np.pi/180)* np.sin(DEC_ROSAT[j]*np.pi/180) + np.cos(DEC_Einstein[i]*np.pi/180)*np.cos(DEC_ROSAT[j]*np.pi/180)*np.cos(np.absolute(RA_Einstein[i]-RA_ROSAT[j])*np.pi/180) #returns answer in rad\n",
    "                        #print(theta_rad)\n",
    "                        theta_arcsec = np.arccos(theta_rad) * 206265\n",
    "                        #print(theta_arcsec)\n",
    "                        #print(type(theta_arcsec))\n",
    "                        if theta_arcsec < 360: \n",
    "                        \n",
    "                                if SNR_Einstein[i] >= 2 and SNR_Einstein[i] < 3:\n",
    "                                        poserr1 = 73 \n",
    "                                elif SNR_Einstein[i] >= 3 and SNR_Einstein[i] < 4:\n",
    "                                        poserr1 = 53\n",
    "                                elif SNR_Einstein[i] >= 4 and SNR_Einstein[i] < 6:\n",
    "                                        poserr1 = 41 \n",
    "                                elif SNR_Einstein[i] >= 6:\n",
    "                                        poserr1 = 30\n",
    "                                else:\n",
    "                                        continue \n",
    "                                        #this is for cases of snr less than 2. Is this not possible or do we ignore them?\n",
    "                                \n",
    "                                \n",
    "                                poserr2 = SNR_ROSAT[j] \n",
    "                                confid = theta_arcsec/np.sqrt(poserr1**2 + poserr2**2) #finding theta hat\n",
    "                                #print(theta_arcsec)\n",
    "                                if confid <= 2.6:\n",
    "                                        theta.append(theta_arcsec)\n",
    "                                        #d1.append(dec1[i])\n",
    "                                        #d2.append(dec2[j])\n",
    "                                        #ra1.append(RA1[i])\n",
    "                                        #ra2.append(RA2[j])\n",
    "                                        #snr1.append(SNR_Einstein[i])\n",
    "                                        #snr2.append(SNR_ROSAT[j])\n",
    "                                        #print(theta)\n",
    "                                        tmp_num = theta_arcsec\n",
    "                                        k += 1\n",
    "\n",
    "                \n",
    "print(count)\n",
    "print(k)\n",
    "print(np.size(theta))\n",
    "#a = np.sin(90*np.pi/180)\n",
    "#print(a)\n",
    "\n",
    "ang_sep = np.zeros(count)\n",
    "#for i in range(count):\n",
    "    #ang_sep[i] = round(theta[i].value, 3)\n",
    "#    ang_sep[i] = theta[0][i]\n",
    "\n",
    "#print(np.shape(tmp))\n",
    "print(\"Writing file\")\n",
    "\n",
    "with open(r'test.txt', 'w') as fp:\n",
    "        for i in range(k):\n",
    "            if i == 0:\n",
    "                fp.write(\"Theta (arcsec)\\n\")\n",
    "            else:\n",
    "                fp.write(\"%f\\n\" %(theta[i]))\n",
    "\n",
    "print(f'Numpy: {time.time() - start} seconds')"
   ]
  },
  {
   "cell_type": "code",
   "execution_count": 127,
   "metadata": {},
   "outputs": [
    {
     "name": "stdout",
     "output_type": "stream",
     "text": [
      "57.503447\n"
     ]
    }
   ],
   "source": [
    "i = 50\n",
    "print(DEC_Einstein[i])\n",
    "tmp = np.where( ((np.absolute(DEC_Einstein[i] - DEC_ROSAT) < 1)) & ( (np.absolute(RA_Einstein[i]-RA_ROSAT) * np.cos(DEC_Einstein[i]*(np.pi/180)) )  < 1 ) )"
   ]
  },
  {
   "cell_type": "code",
   "execution_count": 128,
   "metadata": {},
   "outputs": [
    {
     "data": {
      "text/plain": [
       "74.7645"
      ]
     },
     "execution_count": 128,
     "metadata": {},
     "output_type": "execute_result"
    }
   ],
   "source": [
    "tmp\n",
    "DEC_ROSAT[621]"
   ]
  },
  {
   "cell_type": "code",
   "execution_count": 45,
   "metadata": {},
   "outputs": [
    {
     "name": "stdout",
     "output_type": "stream",
     "text": [
      "70.76032\n"
     ]
    }
   ],
   "source": [
    "print(DEC_ROSAT[527])\n"
   ]
  },
  {
   "cell_type": "code",
   "execution_count": 63,
   "metadata": {},
   "outputs": [],
   "source": [
    "arr = np.array([16, 12, 14, 15, 16, 17])\n",
    "arr2 = np.array([12, 15, 16, 10, 26, 12])\n",
    "# pass condition expression    only\n",
    "result = np.where((arr[0] > arr2) & (arr[0] > arr2 *1.50))"
   ]
  },
  {
   "cell_type": "code",
   "execution_count": 64,
   "metadata": {},
   "outputs": [
    {
     "data": {
      "text/plain": [
       "(array([3]),)"
      ]
     },
     "execution_count": 64,
     "metadata": {},
     "output_type": "execute_result"
    }
   ],
   "source": [
    "result"
   ]
  },
  {
   "cell_type": "code",
   "execution_count": 146,
   "metadata": {},
   "outputs": [
    {
     "name": "stdout",
     "output_type": "stream",
     "text": [
      "(array([36, 37, 38, 39, 40, 41, 42, 43, 44, 45, 46, 47, 48, 49, 50, 51, 52,\n",
      "       53, 54, 55, 56, 57, 58, 59, 60, 61, 62, 63, 64, 65, 66, 67, 68]),)\n",
      "(array([ 50,  53,  54,  65, 155, 167, 328, 593, 613, 615, 616, 619, 621,\n",
      "       636]),)\n",
      "<class 'numpy.ndarray'>\n"
     ]
    },
    {
     "name": "stderr",
     "output_type": "stream",
     "text": [
      "/var/folders/3f/g9qgz71j35z23v4byb9jtltc00031c/T/ipykernel_32108/3182480801.py:5: DeprecationWarning: elementwise comparison failed; this will raise an error in the future.\n",
      "  results = np.where( tmp == tmp2)\n"
     ]
    }
   ],
   "source": [
    "i = 50\n",
    "\n",
    "tmp1 = np.where( np.absolute(DEC_Einstein[i] - DEC_ROSAT) < 1) \n",
    "tmp2 = np.where( np.absolute(RA_Einstein[i]-RA_ROSAT) * np.cos(DEC_ROSAT*(np.pi/180))  < 1 ) \n",
    "resultArray = (np.intersect1d(tmp1, tmp2))\n",
    "\n",
    "type(resultArray)\n",
    "\n",
    "#print(tmp2)"
   ]
  },
  {
   "cell_type": "code",
   "execution_count": 118,
   "metadata": {},
   "outputs": [
    {
     "name": "stdout",
     "output_type": "stream",
     "text": [
      "57.503447\n"
     ]
    },
    {
     "data": {
      "text/plain": [
       "(array([36, 37, 38, 39, 40, 41, 42, 43, 44, 45, 46, 47, 48, 49, 50, 51, 52,\n",
       "        53, 54, 55, 56, 57, 58, 59, 60, 61, 62, 63, 64, 65, 66, 67, 68]),)"
      ]
     },
     "execution_count": 118,
     "metadata": {},
     "output_type": "execute_result"
    }
   ],
   "source": [
    "i = 50\n",
    "tmp = np.where( (np.absolute(DEC_Einstein[i] - DEC_ROSAT) < 1) )\n",
    "print(DEC_Einstein[i])\n",
    "tmp"
   ]
  },
  {
   "cell_type": "code",
   "execution_count": 119,
   "metadata": {},
   "outputs": [],
   "source": [
    "#print(DEC_ROSAT[36:68]) \n",
    "array([50, 53, 54, 65]),)"
   ]
  },
  {
   "cell_type": "code",
   "execution_count": 120,
   "metadata": {},
   "outputs": [
    {
     "name": "stdout",
     "output_type": "stream",
     "text": [
      "RA of E 122.823387\n",
      "DEC of E 57.503447\n"
     ]
    },
    {
     "data": {
      "text/plain": [
       "(array([ 50,  53,  54,  65, 155, 167, 328, 613, 619, 621, 636]),)"
      ]
     },
     "execution_count": 120,
     "metadata": {},
     "output_type": "execute_result"
    }
   ],
   "source": [
    "i = 50\n",
    "tmp = np.where( np.absolute(RA_Einstein[i]-RA_ROSAT) * np.cos(DEC_Einstein[i]*(np.pi/180)) < 1 ) \n",
    "print(\"RA of E\",RA_Einstein[i])\n",
    "print(\"DEC of E\",DEC_Einstein[i])\n",
    "tmp\n"
   ]
  },
  {
   "cell_type": "code",
   "execution_count": 75,
   "metadata": {},
   "outputs": [
    {
     "data": {
      "text/plain": [
       "122.79224"
      ]
     },
     "execution_count": 75,
     "metadata": {},
     "output_type": "execute_result"
    }
   ],
   "source": [
    "RA_ROSAT[50]"
   ]
  },
  {
   "cell_type": "code",
   "execution_count": 80,
   "metadata": {},
   "outputs": [
    {
     "data": {
      "text/plain": [
       "'import numpy as np\\n  \\n# Create two multidimensional arrays of \\n# integer values\\nnp_arr1 = np.array([[6, 13, 22, 7, 12],  \\n                    [7, 11, 16, 32, 9]])\\nnp_arr2 = np.array([[44, 20, 8, 35, 10],  \\n                    [98, 23, 42, 6, 13]])\\n  \\n# Print the array values\\nprint(\"\\nThe values of the first array :\\n\", np_arr1)\\nprint(\"\\nThe values of the second array :\\n\", np_arr2)\\n  \\n# Create a new array from two arrays based on\\n# the conditions\\nnew_arr = np.where(((np_arr1 % 2 == 0) & (np_arr2 % 2 == 1)), \\n                   np_arr1, np_arr2)\\n  \\n# Print the new array\\nprint(\"\\nThe filtered values of both arrays :\\n\", new_arr)'"
      ]
     },
     "execution_count": 80,
     "metadata": {},
     "output_type": "execute_result"
    }
   ],
   "source": [
    "\"\"\"import numpy as np\n",
    "  \n",
    "# Create two multidimensional arrays of \n",
    "# integer values\n",
    "np_arr1 = np.array([[6, 13, 22, 7, 12],  \n",
    "                    [7, 11, 16, 32, 9]])\n",
    "np_arr2 = np.array([[44, 20, 8, 35, 10],  \n",
    "                    [98, 23, 42, 6, 13]])\n",
    "  \n",
    "# Print the array values\n",
    "print(\"\\nThe values of the first array :\\n\", np_arr1)\n",
    "print(\"\\nThe values of the second array :\\n\", np_arr2)\n",
    "  \n",
    "# Create a new array from two arrays based on\n",
    "# the conditions\n",
    "new_arr = np.where(((np_arr1 % 2 == 0) & (np_arr2 % 2 == 1)), \n",
    "                   np_arr1, np_arr2)\n",
    "  \n",
    "# Print the new array\n",
    "print(\"\\nThe filtered values of both arrays :\\n\", new_arr)\"\"\""
   ]
  },
  {
   "cell_type": "code",
   "execution_count": 96,
   "metadata": {},
   "outputs": [
    {
     "name": "stdout",
     "output_type": "stream",
     "text": [
      "0.9999999921701705\n",
      "25.811704851343713\n"
     ]
    }
   ],
   "source": [
    "i = j = 1\n",
    "\n",
    "theta_rad = np.sin(DEC_Einstein[i]*np.pi/180)* np.sin(DEC_ROSAT[j]*np.pi/180) + np.cos(DEC_Einstein[i]*np.pi/180)*np.cos(DEC_ROSAT[j]*np.pi/180)*np.cos(np.absolute(RA_Einstein[i]-RA_ROSAT[j])*np.pi/180) #returns answer in rad\n",
    "print(theta_rad)\n",
    "print(np.arccos(theta_rad)*206265)"
   ]
  },
  {
   "cell_type": "code",
   "execution_count": 94,
   "metadata": {},
   "outputs": [
    {
     "data": {
      "text/plain": [
       "55.137461"
      ]
     },
     "execution_count": 94,
     "metadata": {},
     "output_type": "execute_result"
    }
   ],
   "source": [
    "DEC_Einstein[i]"
   ]
  },
  {
   "cell_type": "code",
   "execution_count": 95,
   "metadata": {},
   "outputs": [
    {
     "data": {
      "text/plain": [
       "55.13077"
      ]
     },
     "execution_count": 95,
     "metadata": {},
     "output_type": "execute_result"
    }
   ],
   "source": [
    "DEC_ROSAT[j]"
   ]
  },
  {
   "cell_type": "code",
   "execution_count": 130,
   "metadata": {},
   "outputs": [
    {
     "ename": "TypeError",
     "evalue": "'>' not supported between instances of 'list' and 'int'",
     "output_type": "error",
     "traceback": [
      "\u001b[0;31m---------------------------------------------------------------------------\u001b[0m",
      "\u001b[0;31mTypeError\u001b[0m                                 Traceback (most recent call last)",
      "\u001b[1;32m/Users/snegussie/Documents/Negussie Research Folder/Einstein-ROSAT/roy_test.ipynb Cell 19'\u001b[0m in \u001b[0;36m<cell line: 2>\u001b[0;34m()\u001b[0m\n\u001b[1;32m      <a href='vscode-notebook-cell:/Users/snegussie/Documents/Negussie%20Research%20Folder/Einstein-ROSAT/roy_test.ipynb#ch0000019?line=0'>1</a>\u001b[0m a \u001b[39m=\u001b[39m [\u001b[39m0\u001b[39m, \u001b[39m1\u001b[39m, \u001b[39m2\u001b[39m, \u001b[39m3\u001b[39m, \u001b[39m4\u001b[39m, \u001b[39m5\u001b[39m, \u001b[39m6\u001b[39m, \u001b[39m7\u001b[39m]\n\u001b[0;32m----> <a href='vscode-notebook-cell:/Users/snegussie/Documents/Negussie%20Research%20Folder/Einstein-ROSAT/roy_test.ipynb#ch0000019?line=1'>2</a>\u001b[0m \u001b[39mprint\u001b[39m(np\u001b[39m.\u001b[39mwhere((a \u001b[39m>\u001b[39;49m \u001b[39m2\u001b[39;49m) \u001b[39m&\u001b[39m (a \u001b[39m<\u001b[39m \u001b[39m6\u001b[39m) \u001b[39m|\u001b[39m (a \u001b[39m==\u001b[39m \u001b[39m7\u001b[39m)))\n",
      "\u001b[0;31mTypeError\u001b[0m: '>' not supported between instances of 'list' and 'int'"
     ]
    }
   ],
   "source": [
    "a = [0, 1, 2, 3, 4, 5, 6, 7]\n",
    "print(np.where((a > 2) & (a < 6) | (a == 7)))"
   ]
  },
  {
   "cell_type": "code",
   "execution_count": null,
   "metadata": {},
   "outputs": [],
   "source": []
  }
 ],
 "metadata": {
  "kernelspec": {
   "display_name": "Python 3.8.2 64-bit",
   "language": "python",
   "name": "python3"
  },
  "language_info": {
   "codemirror_mode": {
    "name": "ipython",
    "version": 3
   },
   "file_extension": ".py",
   "mimetype": "text/x-python",
   "name": "python",
   "nbconvert_exporter": "python",
   "pygments_lexer": "ipython3",
   "version": "3.8.2"
  },
  "orig_nbformat": 4,
  "vscode": {
   "interpreter": {
    "hash": "31f2aee4e71d21fbe5cf8b01ff0e069b9275f58929596ceb00d14d90e3e16cd6"
   }
  }
 },
 "nbformat": 4,
 "nbformat_minor": 2
}
