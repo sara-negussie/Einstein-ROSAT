{
 "cells": [
  {
   "cell_type": "markdown",
   "metadata": {},
   "source": [
    "Here is my code to fsort the ROSAT observatory. <br>\n",
    "Author: Sara Negussie <br>\n",
    "Date: June 13, 2022"
   ]
  },
  {
   "cell_type": "markdown",
   "metadata": {},
   "source": []
  },
  {
   "cell_type": "code",
   "execution_count": 142,
   "metadata": {},
   "outputs": [],
   "source": [
    "#import packages \n",
    "import numpy as np\n",
    "import pandas as pd\n",
    "import csv\n",
    "import sys\n",
    "import matplotlib.pyplot as plt\n",
    "from astropy import units as u"
   ]
  },
  {
   "cell_type": "markdown",
   "metadata": {},
   "source": [
    "I will search through all of ROSAT and EINSTEIN and see if they fit the parameters mentioned above but using a modified both methods function and save them into a text file. I will cross check the two files to see if they have something that fits the parameters."
   ]
  },
  {
   "cell_type": "code",
   "execution_count": 140,
   "metadata": {},
   "outputs": [],
   "source": [
    "#def sort(file): #takes in numbers in degree\n",
    "#    new_File = []\n",
    " #   size = 0\n",
    "ROSAT = pd.read_csv(\"2rxs_lite.txt\", delim_whitespace=True)  #names=[\"A\", \"B\"]\n",
    "#ROSAT = ROSAT.iloc[:500,:]\n",
    "countCol = ROSAT.shape[1] #gets numbers of columns\n",
    "countRow = ROSAT.shape[0] #gets number of rows\n",
    "\n",
    "with open(r'ROSAT-sorted.txt', 'w') as fp:\n",
    "    for i in range(countRow):\n",
    "        j = 0\n",
    "        while j < countCol:\n",
    "            if ROSAT.iloc[i, 3] < 55.0 or ROSAT.iloc[i, 3] > 76.0:\n",
    "                j = 20\n",
    "\n",
    "            #ROSAT.iloc[i, 3] >= 55.0 and ROSAT.iloc[i, 3] <= 76.0:\n",
    "            else:\n",
    "                if j >= 0 and j < 2:\n",
    "                    fp.write(\"%s  \" %(ROSAT.iloc[i, j]))\n",
    "                    j+=1\n",
    "                elif j ==2:\n",
    "                    fp.write(\"%10.5f\\t\" %(ROSAT.iloc[i, j]))\n",
    "                    j+=1\n",
    "                elif j==3:\n",
    "                    fp.write(\"%10.5f\\t\" %(ROSAT.iloc[i, j]))\n",
    "                    j+=1\n",
    "                elif j ==4:\n",
    "                    fp.write(\"%6.2f \\t\" %(ROSAT.iloc[i, j]))\n",
    "                    j+=1\n",
    "                elif j ==5 or j ==6:\n",
    "                    fp.write(\"%10.5f\\t\" %(ROSAT.iloc[i, j]))\n",
    "                    j+=1\n",
    "                elif j ==7:\n",
    "                    fp.write(\"%8.2f\\t\" %(ROSAT.iloc[i, j]))\n",
    "                    j+=1\n",
    "                elif j ==8:\n",
    "                    fp.write(\"%8.2f\\t\" %(ROSAT.iloc[i, j]))\n",
    "                    j+=1\n",
    "                elif j ==9:\n",
    "                    fp.write(\"%10.6f\\t\" %(ROSAT.iloc[i, j]))\n",
    "                    j+=1\n",
    "                elif j ==10 or j ==11:\n",
    "                    fp.write(\"%8.4f\\t\" %(ROSAT.iloc[i, j]))\n",
    "                    j+=1\n",
    "                elif j ==12:\n",
    "                    fp.write(\"%8.2f\\t\" %(ROSAT.iloc[i, j]))\n",
    "                    j+=1\n",
    "                elif j >12 and j < 16:\n",
    "                    fp.write(\"%8.3f\\t\" %(ROSAT.iloc[i, j]))\n",
    "                    j+=1\n",
    "                else:\n",
    "                    fp.write(\"%8.3f\\n\" %(ROSAT.iloc[i, j]))\n",
    "                    j+=1\n",
    "            \n",
    "        \n",
    "                    #fp.write(\"%f\\t%8f\\t%.2f\\t%f\\t%f\\t%f\\t%f\\t%f\\t%f\\t%f\\t%f\\t%f\\t%f\\t%f\\t%f\\t%f\\t%f%\\n\" \n",
    "                    #%((file.iloc[i, j]), (confidence_new[i]), (dec_E_new[i]), (dec_R_new[i]), (ra_E_new[i]), (ra_R_new[i])))\n",
    "    #return new_File\n",
    "\n",
    "#newFile = sort(ROSAT)\n",
    "\n",
    "#print(theta)"
   ]
  },
  {
   "cell_type": "code",
   "execution_count": null,
   "metadata": {},
   "outputs": [],
   "source": []
  },
  {
   "cell_type": "markdown",
   "metadata": {},
   "source": [
    "just checking if i did my calculations correct"
   ]
  },
  {
   "cell_type": "code",
   "execution_count": 141,
   "metadata": {},
   "outputs": [
    {
     "name": "stdout",
     "output_type": "stream",
     "text": [
      "Writing file\n",
      "finished\n"
     ]
    }
   ],
   "source": [
    "#check my RA sorted and Ed's short RS file for ROSAT\n",
    "\n",
    "myROSAT = pd.read_csv(\"ROSAT-sorted.txt\", delim_whitespace=True)\n",
    "edROSAT = pd.read_csv(\"rass_short.txt\", delim_whitespace=True)\n",
    "\n",
    "myRA = myROSAT.iloc[:, 2] #* u.deg #right ascention\n",
    "myDEC = myROSAT.iloc[:, 3] #* u.deg #decllination\n",
    "\n",
    "edRA = edROSAT.iloc[:, 2] #* u.deg #right ascention\n",
    "edDEC = edROSAT.iloc[:, 3] #* u.deg #decllination\n",
    "\n",
    "matchRA = []\n",
    "matchDEC = []\n",
    "\n",
    "\n",
    "print(\"Writing file\")\n",
    "\n",
    "with open(r'matchcheck.txt', 'w') as fp:\n",
    "    for i in range(np.size(edRA)):\n",
    "        j = 0\n",
    "        if i ==0:\n",
    "            fp.write(\"myDEC\\tedDEC\\tmyRA\\tedRA\\n\")\n",
    "        else:\n",
    "            while j < np.size(myRA):\n",
    "                if edRA[i] == myRA[j]:\n",
    "                    if edDEC[i] == myDEC[j]:\n",
    "                        fp.write(\"%8.6f\\t%8.6f\\t%8.6f\\t%8.6f\\n\" %((myDEC[j]), (edDEC[i]), (myRA[j]), (edRA[i])))\n",
    "                        j += 1\n",
    "                    else:\n",
    "                        j += 1\n",
    "                else:\n",
    "                    j+=1\n",
    "            \n",
    "print(\"finished\")\n",
    "\n",
    "#print(matchDEC)"
   ]
  },
  {
   "cell_type": "code",
   "execution_count": 64,
   "metadata": {},
   "outputs": [
    {
     "name": "stdout",
     "output_type": "stream",
     "text": [
      "yes\n",
      "70.1788\n"
     ]
    }
   ],
   "source": []
  },
  {
   "cell_type": "code",
   "execution_count": null,
   "metadata": {},
   "outputs": [],
   "source": []
  }
 ],
 "metadata": {
  "kernelspec": {
   "display_name": "Python 3.8.2 64-bit",
   "language": "python",
   "name": "python3"
  },
  "language_info": {
   "codemirror_mode": {
    "name": "ipython",
    "version": 3
   },
   "file_extension": ".py",
   "mimetype": "text/x-python",
   "name": "python",
   "nbconvert_exporter": "python",
   "pygments_lexer": "ipython3",
   "version": "3.8.2"
  },
  "orig_nbformat": 4,
  "vscode": {
   "interpreter": {
    "hash": "31f2aee4e71d21fbe5cf8b01ff0e069b9275f58929596ceb00d14d90e3e16cd6"
   }
  }
 },
 "nbformat": 4,
 "nbformat_minor": 2
}
