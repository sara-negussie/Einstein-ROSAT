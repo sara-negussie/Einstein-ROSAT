{
 "cells": [
  {
   "cell_type": "markdown",
   "metadata": {},
   "source": [
    "Here is my code to find the angular separation from the Einstein and ROSAT observatories. <br>\n",
    "Author: Sara Negussie <br>\n",
    "Date: June 13, 2022"
   ]
  },
  {
   "cell_type": "markdown",
   "metadata": {},
   "source": []
  },
  {
   "cell_type": "code",
   "execution_count": 67,
   "metadata": {},
   "outputs": [],
   "source": [
    "#import packages \n",
    "import numpy as np\n",
    "import pandas as pd\n",
    "import csv\n",
    "import sys\n",
    "import matplotlib.pyplot as plt\n",
    "from astropy import units as u"
   ]
  },
  {
   "cell_type": "code",
   "execution_count": 75,
   "metadata": {},
   "outputs": [
    {
     "name": "stdout",
     "output_type": "stream",
     "text": [
      "del RA = \n",
      " 128.055996 deg\n"
     ]
    }
   ],
   "source": [
    "ROSAT = pd.read_csv(\"2rxs_lite.txt\", delim_whitespace=True)  #names=[\"A\", \"B\"]\n",
    "Einstein = pd.read_csv(\"2sig_J2000_theta.txt\", delim_whitespace=True)\n",
    "\n",
    "RA_ROSAT = ROSAT.iloc[:, 2] * u.deg\n",
    "DEC_ROSAT = ROSAT.iloc[:, 3] * u.deg\n",
    "\n",
    "RA_Einstein = Einstein.iloc[:, 0] * u.deg\n",
    "DEC_Einstein = Einstein.iloc[:, 1] * u.deg #46000:46100\n",
    "\n",
    "#del_RA = np.absolute(RA_Einstein[0]-RA_ROSAT[0])\n",
    "#print(\"del RA = \\n\", del_RA)\n",
    "#print(RA_ROSAT)\n",
    "#print(DEC_ROSAT)\n",
    "#print(RA_Einstein)\n",
    "#print(DEC_Einstein)"
   ]
  },
  {
   "cell_type": "markdown",
   "metadata": {},
   "source": [
    "I will search through all of ROSAT and EINSTEIN and see if they fit the parameters mentioned above but using a modified both methods function and save them into a text file. I will cross check the two files to see if they have something that fits the parameters."
   ]
  },
  {
   "cell_type": "code",
   "execution_count": 77,
   "metadata": {},
   "outputs": [
    {
     "ename": "UnitConversionError",
     "evalue": "Can only apply 'less' function to dimensionless quantities when other argument is not a quantity (unless the latter is all zero/infinity/nan)",
     "output_type": "error",
     "traceback": [
      "\u001b[0;31m---------------------------------------------------------------------------\u001b[0m",
      "\u001b[0;31mUnitConversionError\u001b[0m                       Traceback (most recent call last)",
      "\u001b[1;32m/Users/snegussie/Documents/Negussie Research Folder/Einstein-ROSAT/angularsep.ipynb Cell 6'\u001b[0m in \u001b[0;36m<cell line: 41>\u001b[0;34m()\u001b[0m\n\u001b[1;32m     <a href='vscode-notebook-cell:/Users/snegussie/Documents/Negussie%20Research%20Folder/Einstein-ROSAT/angularsep.ipynb#ch0000007?line=36'>37</a>\u001b[0m                 \u001b[39m#continue\u001b[39;00m\n\u001b[1;32m     <a href='vscode-notebook-cell:/Users/snegussie/Documents/Negussie%20Research%20Folder/Einstein-ROSAT/angularsep.ipynb#ch0000007?line=38'>39</a>\u001b[0m     \u001b[39mreturn\u001b[39;00m theta, d1, d2, ra1, ra2, size\n\u001b[0;32m---> <a href='vscode-notebook-cell:/Users/snegussie/Documents/Negussie%20Research%20Folder/Einstein-ROSAT/angularsep.ipynb#ch0000007?line=40'>41</a>\u001b[0m theta, dec_E, dec_R, RA_E, RA_R, size_file \u001b[39m=\u001b[39m coor_data(DEC_Einstein, DEC_ROSAT, RA_Einstein, RA_ROSAT)\n",
      "\u001b[1;32m/Users/snegussie/Documents/Negussie Research Folder/Einstein-ROSAT/angularsep.ipynb Cell 6'\u001b[0m in \u001b[0;36mcoor_data\u001b[0;34m(dec1, dec2, RA1, RA2)\u001b[0m\n\u001b[1;32m     <a href='vscode-notebook-cell:/Users/snegussie/Documents/Negussie%20Research%20Folder/Einstein-ROSAT/angularsep.ipynb#ch0000007?line=21'>22</a>\u001b[0m theta_arcsec \u001b[39m=\u001b[39m np\u001b[39m.\u001b[39marccos(theta_rad) \u001b[39m*\u001b[39m \u001b[39m206265\u001b[39m \u001b[39m*\u001b[39m u\u001b[39m.\u001b[39marcsec \u001b[39m/\u001b[39m u\u001b[39m.\u001b[39mrad\n\u001b[1;32m     <a href='vscode-notebook-cell:/Users/snegussie/Documents/Negussie%20Research%20Folder/Einstein-ROSAT/angularsep.ipynb#ch0000007?line=22'>23</a>\u001b[0m \u001b[39m#print(\"theta in arcsecs = \", theta_arcsec)\u001b[39;00m\n\u001b[0;32m---> <a href='vscode-notebook-cell:/Users/snegussie/Documents/Negussie%20Research%20Folder/Einstein-ROSAT/angularsep.ipynb#ch0000007?line=23'>24</a>\u001b[0m \u001b[39mif\u001b[39;00m theta_arcsec \u001b[39m<\u001b[39;49m \u001b[39m50000\u001b[39;49m: \u001b[39m#300\u001b[39;00m\n\u001b[1;32m     <a href='vscode-notebook-cell:/Users/snegussie/Documents/Negussie%20Research%20Folder/Einstein-ROSAT/angularsep.ipynb#ch0000007?line=24'>25</a>\u001b[0m     theta\u001b[39m.\u001b[39mappend(theta_arcsec)\n\u001b[1;32m     <a href='vscode-notebook-cell:/Users/snegussie/Documents/Negussie%20Research%20Folder/Einstein-ROSAT/angularsep.ipynb#ch0000007?line=25'>26</a>\u001b[0m     d1\u001b[39m.\u001b[39mappend(dec1[i])\n",
      "File \u001b[0;32m~/Library/Python/3.8/lib/python/site-packages/astropy/units/quantity.py:591\u001b[0m, in \u001b[0;36mQuantity.__array_ufunc__\u001b[0;34m(self, function, method, *inputs, **kwargs)\u001b[0m\n\u001b[1;32m    569\u001b[0m \u001b[39m\"\"\"Wrap numpy ufuncs, taking care of units.\u001b[39;00m\n\u001b[1;32m    570\u001b[0m \n\u001b[1;32m    571\u001b[0m \u001b[39mParameters\u001b[39;00m\n\u001b[0;32m   (...)\u001b[0m\n\u001b[1;32m    585\u001b[0m \u001b[39m    Results of the ufunc, with the unit set properly.\u001b[39;00m\n\u001b[1;32m    586\u001b[0m \u001b[39m\"\"\"\u001b[39;00m\n\u001b[1;32m    587\u001b[0m \u001b[39m# Determine required conversion functions -- to bring the unit of the\u001b[39;00m\n\u001b[1;32m    588\u001b[0m \u001b[39m# input to that expected (e.g., radian for np.sin), or to get\u001b[39;00m\n\u001b[1;32m    589\u001b[0m \u001b[39m# consistent units between two inputs (e.g., in np.add) --\u001b[39;00m\n\u001b[1;32m    590\u001b[0m \u001b[39m# and the unit of the result (or tuple of units for nout > 1).\u001b[39;00m\n\u001b[0;32m--> 591\u001b[0m converters, unit \u001b[39m=\u001b[39m converters_and_unit(function, method, \u001b[39m*\u001b[39;49minputs)\n\u001b[1;32m    593\u001b[0m out \u001b[39m=\u001b[39m kwargs\u001b[39m.\u001b[39mget(\u001b[39m'\u001b[39m\u001b[39mout\u001b[39m\u001b[39m'\u001b[39m, \u001b[39mNone\u001b[39;00m)\n\u001b[1;32m    594\u001b[0m \u001b[39m# Avoid loop back by turning any Quantity output into array views.\u001b[39;00m\n",
      "File \u001b[0;32m~/Library/Python/3.8/lib/python/site-packages/astropy/units/quantity_helper/converters.py:192\u001b[0m, in \u001b[0;36mconverters_and_unit\u001b[0;34m(function, method, *args)\u001b[0m\n\u001b[1;32m    190\u001b[0m             converters[i] \u001b[39m=\u001b[39m \u001b[39mNone\u001b[39;00m\n\u001b[1;32m    191\u001b[0m         \u001b[39melse\u001b[39;00m:\n\u001b[0;32m--> 192\u001b[0m             \u001b[39mraise\u001b[39;00m UnitConversionError(\n\u001b[1;32m    193\u001b[0m                 \u001b[39m\"\u001b[39m\u001b[39mCan only apply \u001b[39m\u001b[39m'\u001b[39m\u001b[39m{}\u001b[39;00m\u001b[39m'\u001b[39m\u001b[39m function to \u001b[39m\u001b[39m\"\u001b[39m\n\u001b[1;32m    194\u001b[0m                 \u001b[39m\"\u001b[39m\u001b[39mdimensionless quantities when other \u001b[39m\u001b[39m\"\u001b[39m\n\u001b[1;32m    195\u001b[0m                 \u001b[39m\"\u001b[39m\u001b[39margument is not a quantity (unless the \u001b[39m\u001b[39m\"\u001b[39m\n\u001b[1;32m    196\u001b[0m                 \u001b[39m\"\u001b[39m\u001b[39mlatter is all zero/infinity/nan)\u001b[39m\u001b[39m\"\u001b[39m\n\u001b[1;32m    197\u001b[0m                 \u001b[39m.\u001b[39mformat(function\u001b[39m.\u001b[39m\u001b[39m__name__\u001b[39m))\n\u001b[1;32m    198\u001b[0m \u001b[39mexcept\u001b[39;00m \u001b[39mTypeError\u001b[39;00m:\n\u001b[1;32m    199\u001b[0m     \u001b[39m# _can_have_arbitrary_unit failed: arg could not be compared\u001b[39;00m\n\u001b[1;32m    200\u001b[0m     \u001b[39m# with zero or checked to be finite. Then, ufunc will fail too.\u001b[39;00m\n\u001b[1;32m    201\u001b[0m     \u001b[39mraise\u001b[39;00m \u001b[39mTypeError\u001b[39;00m(\u001b[39m\"\u001b[39m\u001b[39mUnsupported operand type(s) for ufunc \u001b[39m\u001b[39m{}\u001b[39;00m\u001b[39m: \u001b[39m\u001b[39m\"\u001b[39m\n\u001b[1;32m    202\u001b[0m                     \u001b[39m\"\u001b[39m\u001b[39m'\u001b[39m\u001b[39m{}\u001b[39;00m\u001b[39m'\u001b[39m\u001b[39m\"\u001b[39m\u001b[39m.\u001b[39mformat(function\u001b[39m.\u001b[39m\u001b[39m__name__\u001b[39m,\n\u001b[1;32m    203\u001b[0m                                    \u001b[39m'\u001b[39m\u001b[39m,\u001b[39m\u001b[39m'\u001b[39m\u001b[39m.\u001b[39mjoin([arg\u001b[39m.\u001b[39m\u001b[39m__class__\u001b[39m\u001b[39m.\u001b[39m\u001b[39m__name__\u001b[39m\n\u001b[1;32m    204\u001b[0m                                              \u001b[39mfor\u001b[39;00m arg \u001b[39min\u001b[39;00m args])))\n",
      "\u001b[0;31mUnitConversionError\u001b[0m: Can only apply 'less' function to dimensionless quantities when other argument is not a quantity (unless the latter is all zero/infinity/nan)"
     ]
    }
   ],
   "source": [
    "def coor_data(dec1, dec2, RA1, RA2): #takes in numbers in degree\n",
    "    theta = []\n",
    "    d1 = []\n",
    "    d2 = []\n",
    "    ra1 = []\n",
    "    ra2 = []\n",
    "    size = 0\n",
    "  \n",
    "    for i in range(np.size(dec1)):\n",
    "        j = 0\n",
    "        while j < np.size(dec1):\n",
    "            #print(\"size of dec1 =\", np.size(dec1), \"i =\", i, \"j =\", j)\n",
    "            del_dec = np.absolute(dec1[i]-dec2[j])\n",
    "            #print(\"del dec = \\n\", del_dec)\n",
    "            del_RA = np.absolute(RA1[i]-RA2[j])\n",
    "            #print(\"del RA = \\n\", del_RA)\n",
    "            #np.sin wants numbers in radians but if you send in numbers in degree, it will do it in degree\n",
    "            if del_dec < 100 * u.deg and del_RA*np.cos(dec1[i]) < 100 * u.deg: #filter\n",
    "                #LoC way\n",
    "                theta_rad = np.sin(dec1[i])* np.sin(dec2[i]) + np.cos(dec1[i])*np.cos(dec2[i])*np.cos(del_RA) #returns answer in rad\n",
    "                #print(\"theta in radians = \", theta_rad)\n",
    "                theta_arcsec = np.arccos(theta_rad) * 206265 * u.arcsec / u.rad\n",
    "                #print(\"theta in arcsecs = \", theta_arcsec)\n",
    "                if theta_arcsec < 50000: #300\n",
    "                    theta.append(theta_arcsec)\n",
    "                    d1.append(dec1[i])\n",
    "                    d2.append(dec2[j])\n",
    "                    ra1.append(RA1[i])\n",
    "                    ra2.append(RA2[j])\n",
    "                    size += 1\n",
    "                    j += 1\n",
    "                else:\n",
    "                  j += 1\n",
    "            else:\n",
    "                #theta.append(0)\n",
    "                j += 1\n",
    "                #continue\n",
    "                \n",
    "    return theta, d1, d2, ra1, ra2, size\n",
    "\n",
    "theta, dec_E, dec_R, RA_E, RA_R, size_file = coor_data(DEC_Einstein, DEC_ROSAT, RA_Einstein, RA_ROSAT)\n",
    "#print(theta)"
   ]
  },
  {
   "cell_type": "code",
   "execution_count": 74,
   "metadata": {},
   "outputs": [
    {
     "name": "stdout",
     "output_type": "stream",
     "text": [
      "Start...\n",
      "End...\n",
      "Writing file\n",
      "finished\n"
     ]
    }
   ],
   "source": [
    "theta = []\n",
    "size_file = []\n",
    "dec_E = []\n",
    "dec_R = []\n",
    "RA_E = []\n",
    "RA_R = []\n",
    "\n",
    "print(\"Start...\")\n",
    "\n",
    "theta, dec_E, dec_R, RA_E, RA_R, size_file = coor_data(DEC_Einstein, DEC_ROSAT, RA_Einstein, RA_ROSAT)\n",
    "\n",
    "print(\"End...\")\n",
    "np.size(theta)\n",
    "ang_sep = np.zeros(size_file)\n",
    "for i in range(np.size(theta)):\n",
    "    ang_sep[i] = round(theta[i].value, 1)\n",
    "\n",
    "dec_E_new = np.zeros(size_file)\n",
    "for i in range(np.size(theta)):\n",
    "    dec_E_new[i] = round(dec_E[i].value, 1)\n",
    "\n",
    "dec_R_new = np.zeros(size_file)\n",
    "for i in range(np.size(theta)):\n",
    "    dec_R_new[i] = round(dec_R[i].value, 1)\n",
    "\n",
    "ra_E_new = np.zeros(size_file)\n",
    "for i in range(np.size(theta)):\n",
    "    ra_E_new[i] = round(RA_E[i].value, 1)\n",
    "\n",
    "ra_R_new = np.zeros(size_file)\n",
    "for i in range(np.size(theta)):\n",
    "    ra_R_new[i] = round(RA_R[i].value, 1)\n",
    "\n",
    "print(\"Writing file\")\n",
    "\n",
    "with open(r'angular_sep.txt', 'w') as fp:\n",
    "        for i in range(np.size(theta)):\n",
    "            fp.write(\"Angular Sep = %f\\t DEC Einstein = %f\\t DEC ROSART = %f\\t RA Einstein = %f\\t RA ROSART = %f\\n\" \n",
    "                     % ((ang_sep[i]), (dec_E_new[i]), (dec_R_new[i]), (ra_E_new[i]), (ra_R_new[i])))\n",
    "            \n",
    "print(\"finished\")\n"
   ]
  },
  {
   "cell_type": "code",
   "execution_count": null,
   "metadata": {},
   "outputs": [],
   "source": []
  }
 ],
 "metadata": {
  "kernelspec": {
   "display_name": "Python 3.8.2 64-bit",
   "language": "python",
   "name": "python3"
  },
  "language_info": {
   "codemirror_mode": {
    "name": "ipython",
    "version": 3
   },
   "file_extension": ".py",
   "mimetype": "text/x-python",
   "name": "python",
   "nbconvert_exporter": "python",
   "pygments_lexer": "ipython3",
   "version": "3.8.2"
  },
  "orig_nbformat": 4,
  "vscode": {
   "interpreter": {
    "hash": "31f2aee4e71d21fbe5cf8b01ff0e069b9275f58929596ceb00d14d90e3e16cd6"
   }
  }
 },
 "nbformat": 4,
 "nbformat_minor": 2
}
