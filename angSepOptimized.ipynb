{
 "cells": [
  {
   "cell_type": "markdown",
   "metadata": {},
   "source": [
    "    Rewriting my code to run faster."
   ]
  },
  {
   "cell_type": "code",
   "execution_count": 13,
   "metadata": {},
   "outputs": [],
   "source": [
    "#import packages \n",
    "import numpy as np\n",
    "import pandas as pd\n",
    "import matplotlib.pyplot as plt\n",
    "from astropy import units as u  \n",
    "import time"
   ]
  },
  {
   "cell_type": "code",
   "execution_count": 12,
   "metadata": {},
   "outputs": [],
   "source": [
    "#import files\n",
    "ROSAT = pd.read_csv(\"ROSAT-sorted.txt\", delim_whitespace=True)  \n",
    "Einstein = pd.read_csv(\"ets_short.txt\", delim_whitespace=True)\n",
    "\n",
    "RA_ROSAT = ROSAT.iloc[:, 2] #right ascention\n",
    "DEC_ROSAT = ROSAT.iloc[:, 3] #decllination\n",
    "SNR_ROSAT = ROSAT.iloc[:, 4] #signal to noise ratio\n",
    "\n",
    "RA_Einstein = Einstein.iloc[:, 0] #right ascention\n",
    "DEC_Einstein = Einstein.iloc[:, 1] #decllination\n",
    "SNR_Einstein = Einstein.iloc[:, 2] #signal to noise ratio"
   ]
  },
  {
   "cell_type": "code",
   "execution_count": 11,
   "metadata": {},
   "outputs": [],
   "source": [
    "RA_ROSAT_Reverse = RA_ROSAT[::-1]\n",
    "DEC_ROSAT_Reverse = DEC_ROSAT[::-1]\n",
    "SNR_ROSAT_Reverse = SNR_ROSAT[::-1]"
   ]
  },
  {
   "cell_type": "code",
   "execution_count": 91,
   "metadata": {},
   "outputs": [
    {
     "name": "stdout",
     "output_type": "stream",
     "text": [
      "74.37934\n",
      "0\n",
      "(array([], dtype=int64),)\n",
      "72.55258\n",
      "Numpy: 0.0052449703216552734 seconds\n"
     ]
    }
   ],
   "source": [
    "start = time.time()\n",
    "\n",
    "#print(np.size(DEC_ROSAT))\n",
    "tmp_num = DEC_ROSAT[50] #50 empty\n",
    "print(tmp_num)\n",
    "#dec_save = []\n",
    "#np.where((arr > 12) & (arr < 16))\n",
    "\n",
    "\n",
    "tmp = np.where( ((np.absolute(DEC_ROSAT - tmp_num) < 1)) & (np.absolute( RA_Einstein-RA_ROSAT* np.cos(DEC_ROSAT*(180/np.pi)) ) < 1) )\n",
    "print(np.size(tmp))\n",
    "#print(DEC_ROSAT[4])\n",
    "print(tmp)\n",
    "if len(tmp) == ():\n",
    "    print(\"empty\")\n",
    "#else:\n",
    "#    print(tmp[0][0])\n",
    "\n",
    "#arr = np.array([11, 12, 13, 14, 15, 16, 17, 15, 11, 12, 14, 15, 16, 17])\n",
    "#result = np.where(arr > 15)\n",
    "#print(result)\n",
    "print(DEC_ROSAT[129])\n",
    "\n",
    "print(f'Numpy: {time.time() - start} seconds')\n"
   ]
  },
  {
   "cell_type": "code",
   "execution_count": 89,
   "metadata": {},
   "outputs": [
    {
     "name": "stdout",
     "output_type": "stream",
     "text": [
      "Tuple is empty 1!\n",
      "Tuple is empty 3!\n"
     ]
    }
   ],
   "source": [
    "empty_tuple = ()\n",
    "#length check\n",
    "if len(empty_tuple) == 0:\n",
    "    print(\"Tuple is empty 1!\")\n",
    "#if statement check\n",
    "if empty_tuple:\n",
    "    print(\"Tuple is empty 2!\")\n",
    "#comparing to empty tuple\n",
    "if empty_tuple == ():\n",
    "    print(\"Tuple is empty 3!\")"
   ]
  },
  {
   "cell_type": "code",
   "execution_count": null,
   "metadata": {},
   "outputs": [],
   "source": [
    "#sort these files\n",
    "\n",
    "tmp = ROSAT.iloc[0, 3]\n",
    "for i in range(RA_ROSAT):\n",
    "    if ROSAT.iloc[i, 3] > tmp:\n",
    "        tmp = ROSAT"
   ]
  },
  {
   "cell_type": "code",
   "execution_count": null,
   "metadata": {},
   "outputs": [],
   "source": [
    "def coor_data(dec1, dec2, RA1, RA2, snr_1, snr_2): #takes in numbers in degree\n",
    "    theta = []\n",
    "    d1 = []\n",
    "    d2 = []\n",
    "    ra1 = []\n",
    "    ra2 = []\n",
    "    snr1 = []\n",
    "    snr2 = []\n",
    "    offset = []\n",
    "    ignored_range1  = [] #these are with SNR less than 1\n",
    "    ignored_range2  = [] #these are with SNR less than 1\n",
    "    poserr1 = 0.0\n",
    "    poserr2 = 0.0\n",
    "    size = 0\n",
    "  \n",
    "    for i in range(np.size(dec1)):\n",
    "        j = 0\n",
    "        while j < np.size(dec2):\n",
    "            #print(\"size of dec1 =\", np.size(dec1), \"i =\", i, \"j =\", j)\n",
    "            del_dec = np.absolute(dec1[i*180/np.pi]-dec2[j]*180/np.pi)\n",
    "            #print(\"del dec = \\n\", del_dec)\n",
    "            del_RA = np.absolute(RA1[i*180/np.pi]-RA2[j*180/np.pi])\n",
    "            #print(\"del RA = \\n\", del_RA)\n",
    "            #np.sin wants numbers in radians but if you send in numbers in degree, it will do it in degree\n",
    "            if del_dec < 1 and del_RA*np.cos(dec1[i*180/np.pi]) < 1 : #filter\n",
    "                if del_dec \n",
    "                #LoC way\n",
    "                theta_rad = np.sin(dec1[i*180/np.pi])* np.sin(dec2[j*180/np.pi]) + np.cos(dec1[i*180/np.pi])*np.cos(dec2[j*180/np.pi])*np.cos(del_RA) #returns answer in rad\n",
    "                #print(\"theta in radians = \", theta_rad)\n",
    "                theta_arcsec = np.arccos(theta_rad) * 206265\n",
    "                #print(\"theta in arcsecs = \", theta_arcsec)\n",
    "                if theta_arcsec <= 300: \n",
    "                                               \n",
    "                        if snr_1[i] >= 2 and snr_1[i] < 3:\n",
    "                                poserr1 = 73 * u.arcsec\n",
    "                        elif snr_1[i] >= 3 and snr_1[i] < 4:\n",
    "                                poserr1 = 53 * u.arcsec\n",
    "                        elif snr_1[i] >= 4 and snr_1[i] < 6:\n",
    "                                poserr1 = 41 * u.arcsec\n",
    "                        elif snr_1[i] >= 6:\n",
    "                                poserr1 = 30 * u.arcsec\n",
    "                        else:\n",
    "                                ignored_range1.append(i)\n",
    "                                #continue \n",
    "                                #this is for cases of snr less than 2. Is this not possible or do we ignore them?\n",
    "                        \n",
    "                        \n",
    "                        poserr2 = snr_2[j] * u.arcsec\n",
    "                        confid = theta_arcsec/np.sqrt(poserr1**2 + poserr2**2) #finding theta hat\n",
    "                        offset.append(confid)\n",
    "                        theta.append(theta_arcsec) \n",
    "                        d1.append(dec1[i])\n",
    "                        d2.append(dec2[j])\n",
    "                        ra1.append(RA1[i])\n",
    "                        ra2.append(RA2[j])\n",
    "                        snr1.append(snr_1[i])\n",
    "                        snr2.append(snr_2[j])\n",
    "                        size += 1\n",
    "                        j += 1\n",
    "                else:\n",
    "                  j += 1\n",
    "            else:\n",
    "                #theta.append(0)\n",
    "                j += 1\n",
    "                #continue\n",
    "                \n",
    "    return theta, d1, d2, offset, ra1, ra2, snr1, snr2, size, ignored_range1, ignored_range2\n",
    "\n",
    "#theta, dec_E, dec_R, RA_E, RA_R, size_file = coor_data(DEC_Einstein, DEC_ROSAT, RA_Einstein, RA_ROSAT)\n",
    "    "
   ]
  },
  {
   "cell_type": "code",
   "execution_count": null,
   "metadata": {},
   "outputs": [],
   "source": []
  },
  {
   "cell_type": "code",
   "execution_count": null,
   "metadata": {},
   "outputs": [],
   "source": [
    " "
   ]
  }
 ],
 "metadata": {
  "kernelspec": {
   "display_name": "Python 3.8.2 64-bit",
   "language": "python",
   "name": "python3"
  },
  "language_info": {
   "codemirror_mode": {
    "name": "ipython",
    "version": 3
   },
   "file_extension": ".py",
   "mimetype": "text/x-python",
   "name": "python",
   "nbconvert_exporter": "python",
   "pygments_lexer": "ipython3",
   "version": "3.8.2"
  },
  "orig_nbformat": 4,
  "vscode": {
   "interpreter": {
    "hash": "31f2aee4e71d21fbe5cf8b01ff0e069b9275f58929596ceb00d14d90e3e16cd6"
   }
  }
 },
 "nbformat": 4,
 "nbformat_minor": 2
}
