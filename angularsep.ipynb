{
 "cells": [
  {
   "cell_type": "markdown",
   "metadata": {},
   "source": [
    "Here is my code to find the angular separation from the Einstein and ROSAT observatories. <br>\n",
    "Author: Sara Negussie <br>\n",
    "Date: June 13, 2022"
   ]
  },
  {
   "cell_type": "markdown",
   "metadata": {},
   "source": []
  },
  {
   "cell_type": "code",
   "execution_count": 15,
   "metadata": {},
   "outputs": [],
   "source": [
    "#import packages \n",
    "import numpy as np\n",
    "import pandas as pd\n",
    "import csv\n",
    "import sys\n",
    "import matplotlib.pyplot as plt\n",
    "from astropy import units as u"
   ]
  },
  {
   "cell_type": "code",
   "execution_count": 16,
   "metadata": {},
   "outputs": [],
   "source": [
    "ROSAT = pd.read_csv(\"2rxs_lite.txt\", delim_whitespace=True)  #names=[\"A\", \"B\"]\n",
    "Einstein = pd.read_csv(\"2sig_J2000_theta.txt\", delim_whitespace=True)\n",
    "\n",
    "RA_ROSAT = ROSAT.iloc[:, 2] * u.deg\n",
    "DEC_ROSAT = ROSAT.iloc[:, 3] * u.deg\n",
    "\n",
    "RA_Einstein = Einstein.iloc[:, 0] * u.deg\n",
    "DEC_Einstein = Einstein.iloc[:, 1] * u.deg"
   ]
  },
  {
   "cell_type": "markdown",
   "metadata": {},
   "source": [
    "I will search through all of ROSAT and EINSTEIN and see if they fit the parameters mentioned above but using a modified both methods function and save them into a text file. I will cross check the two files to see if they have something that fits the parameters."
   ]
  },
  {
   "cell_type": "code",
   "execution_count": 18,
   "metadata": {},
   "outputs": [],
   "source": [
    "def coor_data(dec1, dec2, RA1, RA2): #takes in numbers in degree\n",
    "    theta = []\n",
    "    d1 = []\n",
    "    d2 = []\n",
    "    ra1 = []\n",
    "    ra2 = []\n",
    "    size = 0\n",
    "  \n",
    "    for i in range(np.size(dec1)):\n",
    "        j = 0\n",
    "        while j < np.size(dec1):\n",
    "            del_dec = np.absolute(dec1[i]-dec2[j])\n",
    "            del_RA = np.absolute(RA1[i]-RA2[j])\n",
    "            #np.sin wants numbers in radians but if you send in numbers in degree, it will do it in degree\n",
    "            if del_dec < 1 * u.deg and del_RA*np.cos(dec1[i]) < 1 * u.deg: #filter\n",
    "                #LoC way\n",
    "                theta_rad = np.sin(dec1[i])* np.sin(dec2[i]) + np.cos(dec1[i])*np.cos(dec2[i])*np.cos(del_RA) #returns answer in rad\n",
    "                theta_arcsec = np.arccos(theta_rad) * 206265 * u.arcsec / u.rad\n",
    "                if theta_arcsec < 300:\n",
    "                    theta.append(theta_arcsec)\n",
    "                    d1.append(dec1[i])\n",
    "                    d2.append(dec2[j])\n",
    "                    ra1.append(RA1[i])\n",
    "                    ra2.append(RA2[j])\n",
    "                    size += 1\n",
    "                    j += 1\n",
    "                else:\n",
    "                  j += 1\n",
    "            else:\n",
    "                #theta.append(0)\n",
    "                j += 1\n",
    "                #continue\n",
    "                \n",
    "    return theta, d1, d2, ra1, ra2, size\n",
    "\n",
    "theta, dec_E, dec_R, RA_E, RA_R, size_file = coor_data(DEC_Einstein, DEC_ROSAT, RA_Einstein, RA_ROSAT)\n",
    "print(theta)"
   ]
  },
  {
   "cell_type": "code",
   "execution_count": 13,
   "metadata": {},
   "outputs": [
    {
     "name": "stdout",
     "output_type": "stream",
     "text": [
      "Start...\n"
     ]
    },
    {
     "ename": "KeyboardInterrupt",
     "evalue": "",
     "output_type": "error",
     "traceback": [
      "\u001b[0;31m---------------------------------------------------------------------------\u001b[0m",
      "\u001b[0;31mKeyboardInterrupt\u001b[0m                         Traceback (most recent call last)",
      "\u001b[1;32m/Users/snegussie/Documents/Negussie Research Folder/Einstein-ROSAT/angularsep.ipynb Cell 7'\u001b[0m in \u001b[0;36m<cell line: 10>\u001b[0;34m()\u001b[0m\n\u001b[1;32m      <a href='vscode-notebook-cell:/Users/snegussie/Documents/Negussie%20Research%20Folder/Einstein-ROSAT/angularsep.ipynb#ch0000005?line=5'>6</a>\u001b[0m RA_R \u001b[39m=\u001b[39m []\n\u001b[1;32m      <a href='vscode-notebook-cell:/Users/snegussie/Documents/Negussie%20Research%20Folder/Einstein-ROSAT/angularsep.ipynb#ch0000005?line=7'>8</a>\u001b[0m \u001b[39mprint\u001b[39m(\u001b[39m\"\u001b[39m\u001b[39mStart...\u001b[39m\u001b[39m\"\u001b[39m)\n\u001b[0;32m---> <a href='vscode-notebook-cell:/Users/snegussie/Documents/Negussie%20Research%20Folder/Einstein-ROSAT/angularsep.ipynb#ch0000005?line=9'>10</a>\u001b[0m theta, dec_E, dec_R, RA_E, RA_R, size_file \u001b[39m=\u001b[39m coor_data(DEC_Einstein, DEC_ROSAT, RA_Einstein, RA_ROSAT)\n\u001b[1;32m     <a href='vscode-notebook-cell:/Users/snegussie/Documents/Negussie%20Research%20Folder/Einstein-ROSAT/angularsep.ipynb#ch0000005?line=11'>12</a>\u001b[0m \u001b[39mprint\u001b[39m(\u001b[39m\"\u001b[39m\u001b[39mEnd...\u001b[39m\u001b[39m\"\u001b[39m)\n\u001b[1;32m     <a href='vscode-notebook-cell:/Users/snegussie/Documents/Negussie%20Research%20Folder/Einstein-ROSAT/angularsep.ipynb#ch0000005?line=12'>13</a>\u001b[0m np\u001b[39m.\u001b[39msize(theta)\n",
      "\u001b[1;32m/Users/snegussie/Documents/Negussie Research Folder/Einstein-ROSAT/angularsep.ipynb Cell 6'\u001b[0m in \u001b[0;36mcoor_data\u001b[0;34m(dec1, dec2, RA1, RA2)\u001b[0m\n\u001b[1;32m     <a href='vscode-notebook-cell:/Users/snegussie/Documents/Negussie%20Research%20Folder/Einstein-ROSAT/angularsep.ipynb#ch0000007?line=9'>10</a>\u001b[0m j \u001b[39m=\u001b[39m \u001b[39m0\u001b[39m\n\u001b[1;32m     <a href='vscode-notebook-cell:/Users/snegussie/Documents/Negussie%20Research%20Folder/Einstein-ROSAT/angularsep.ipynb#ch0000007?line=10'>11</a>\u001b[0m \u001b[39mwhile\u001b[39;00m j \u001b[39m<\u001b[39m np\u001b[39m.\u001b[39msize(dec1):\n\u001b[0;32m---> <a href='vscode-notebook-cell:/Users/snegussie/Documents/Negussie%20Research%20Folder/Einstein-ROSAT/angularsep.ipynb#ch0000007?line=11'>12</a>\u001b[0m     del_dec \u001b[39m=\u001b[39m np\u001b[39m.\u001b[39mabsolute(dec1[i]\u001b[39m-\u001b[39mdec2[j])\n\u001b[1;32m     <a href='vscode-notebook-cell:/Users/snegussie/Documents/Negussie%20Research%20Folder/Einstein-ROSAT/angularsep.ipynb#ch0000007?line=12'>13</a>\u001b[0m     del_RA \u001b[39m=\u001b[39m np\u001b[39m.\u001b[39mabsolute(RA1[i]\u001b[39m-\u001b[39mRA2[j])\n\u001b[1;32m     <a href='vscode-notebook-cell:/Users/snegussie/Documents/Negussie%20Research%20Folder/Einstein-ROSAT/angularsep.ipynb#ch0000007?line=13'>14</a>\u001b[0m     \u001b[39m#np.sin wants numbers in radians but if you send in numbers in degree, it will do it in degree\u001b[39;00m\n",
      "File \u001b[0;32m~/Library/Python/3.8/lib/python/site-packages/pandas/core/series.py:944\u001b[0m, in \u001b[0;36mSeries.__getitem__\u001b[0;34m(self, key)\u001b[0m\n\u001b[1;32m    943\u001b[0m \u001b[39mdef\u001b[39;00m \u001b[39m__getitem__\u001b[39m(\u001b[39mself\u001b[39m, key):\n\u001b[0;32m--> 944\u001b[0m     check_deprecated_indexers(key)\n\u001b[1;32m    945\u001b[0m     key \u001b[39m=\u001b[39m com\u001b[39m.\u001b[39mapply_if_callable(key, \u001b[39mself\u001b[39m)\n\u001b[1;32m    947\u001b[0m     \u001b[39mif\u001b[39;00m key \u001b[39mis\u001b[39;00m \u001b[39mEllipsis\u001b[39m:\n",
      "File \u001b[0;32m~/Library/Python/3.8/lib/python/site-packages/pandas/core/indexing.py:2484\u001b[0m, in \u001b[0;36mcheck_deprecated_indexers\u001b[0;34m(key)\u001b[0m\n\u001b[1;32m   2481\u001b[0m \u001b[39mdef\u001b[39;00m \u001b[39mcheck_deprecated_indexers\u001b[39m(key) \u001b[39m-\u001b[39m\u001b[39m>\u001b[39m \u001b[39mNone\u001b[39;00m:\n\u001b[1;32m   2482\u001b[0m     \u001b[39m\"\"\"Checks if the key is a deprecated indexer.\"\"\"\u001b[39;00m\n\u001b[1;32m   2483\u001b[0m     \u001b[39mif\u001b[39;00m (\n\u001b[0;32m-> 2484\u001b[0m         \u001b[39misinstance\u001b[39;49m(key, \u001b[39mset\u001b[39;49m)\n\u001b[1;32m   2485\u001b[0m         \u001b[39mor\u001b[39;00m \u001b[39misinstance\u001b[39m(key, \u001b[39mtuple\u001b[39m)\n\u001b[1;32m   2486\u001b[0m         \u001b[39mand\u001b[39;00m \u001b[39many\u001b[39m(\u001b[39misinstance\u001b[39m(x, \u001b[39mset\u001b[39m) \u001b[39mfor\u001b[39;00m x \u001b[39min\u001b[39;00m key)\n\u001b[1;32m   2487\u001b[0m     ):\n\u001b[1;32m   2488\u001b[0m         warnings\u001b[39m.\u001b[39mwarn(\n\u001b[1;32m   2489\u001b[0m             \u001b[39m\"\u001b[39m\u001b[39mPassing a set as an indexer is deprecated and will raise in \u001b[39m\u001b[39m\"\u001b[39m\n\u001b[1;32m   2490\u001b[0m             \u001b[39m\"\u001b[39m\u001b[39ma future version. Use a list instead.\u001b[39m\u001b[39m\"\u001b[39m,\n\u001b[1;32m   2491\u001b[0m             \u001b[39mFutureWarning\u001b[39;00m,\n\u001b[1;32m   2492\u001b[0m             stacklevel\u001b[39m=\u001b[39mfind_stack_level(),\n\u001b[1;32m   2493\u001b[0m         )\n\u001b[1;32m   2494\u001b[0m     \u001b[39mif\u001b[39;00m (\n\u001b[1;32m   2495\u001b[0m         \u001b[39misinstance\u001b[39m(key, \u001b[39mdict\u001b[39m)\n\u001b[1;32m   2496\u001b[0m         \u001b[39mor\u001b[39;00m \u001b[39misinstance\u001b[39m(key, \u001b[39mtuple\u001b[39m)\n\u001b[1;32m   2497\u001b[0m         \u001b[39mand\u001b[39;00m \u001b[39many\u001b[39m(\u001b[39misinstance\u001b[39m(x, \u001b[39mdict\u001b[39m) \u001b[39mfor\u001b[39;00m x \u001b[39min\u001b[39;00m key)\n\u001b[1;32m   2498\u001b[0m     ):\n",
      "\u001b[0;31mKeyboardInterrupt\u001b[0m: "
     ]
    }
   ],
   "source": [
    "theta = []\n",
    "size_file = []\n",
    "dec_E = []\n",
    "dec_R = []\n",
    "RA_E = []\n",
    "RA_R = []\n",
    "\n",
    "print(\"Start...\")\n",
    "\n",
    "theta, dec_E, dec_R, RA_E, RA_R, size_file = coor_data(DEC_Einstein, DEC_ROSAT, RA_Einstein, RA_ROSAT)\n",
    "\n",
    "print(\"End...\")\n",
    "np.size(theta)\n",
    "ang_sep = np.zeros(size_file)\n",
    "for i in range(np.size(theta)):\n",
    "    ang_sep[i] = round(theta[i].value, 1)\n",
    "\n",
    "dec_E_new = np.zeros(size_file)\n",
    "for i in range(np.size(theta)):\n",
    "    dec_E_new[i] = round(dec_E[i].value, 1)\n",
    "\n",
    "dec_R_new = np.zeros(size_file)\n",
    "for i in range(np.size(theta)):\n",
    "    dec_R_new[i] = round(dec_R[i].value, 1)\n",
    "\n",
    "ra_E_new = np.zeros(size_file)\n",
    "for i in range(np.size(theta)):\n",
    "    ra_E_new[i] = round(RA_E[i].value, 1)\n",
    "\n",
    "ra_R_new = np.zeros(size_file)\n",
    "for i in range(np.size(theta)):\n",
    "    ra_R_new[i] = round(RA_R[i].value, 1)\n",
    "\n",
    "print(\"Writing file\")\n",
    "\n",
    "with open(r'angular_sep.txt', 'w') as fp:\n",
    "        for i in range(np.size(theta)):\n",
    "            fp.write(\"Angular Sep = %f\\t DEC Einstein = %f\\t DEC ROSART = %f\\t RA Einstein = %f\\t RA ROSART = %f\\n\" \n",
    "                     % ((ang_sep[i]), (dec_E_new[i]), (dec_R_new[i]), (ra_E_new[i]), (ra_R_new[i])))\n",
    "            \n",
    "print(\"finished\")\n"
   ]
  },
  {
   "cell_type": "code",
   "execution_count": null,
   "metadata": {},
   "outputs": [],
   "source": []
  }
 ],
 "metadata": {
  "kernelspec": {
   "display_name": "Python 3.8.2 64-bit",
   "language": "python",
   "name": "python3"
  },
  "language_info": {
   "codemirror_mode": {
    "name": "ipython",
    "version": 3
   },
   "file_extension": ".py",
   "mimetype": "text/x-python",
   "name": "python",
   "nbconvert_exporter": "python",
   "pygments_lexer": "ipython3",
   "version": "3.8.2"
  },
  "orig_nbformat": 4,
  "vscode": {
   "interpreter": {
    "hash": "31f2aee4e71d21fbe5cf8b01ff0e069b9275f58929596ceb00d14d90e3e16cd6"
   }
  }
 },
 "nbformat": 4,
 "nbformat_minor": 2
}
