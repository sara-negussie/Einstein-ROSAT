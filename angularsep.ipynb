{
 "cells": [
  {
   "cell_type": "markdown",
   "metadata": {},
   "source": [
    "Here is my code to find the angular separation from the Einstein and ROSAT observatories. <br>\n",
    "Author: Sara Negussie <br>\n",
    "Date: June 13, 2022"
   ]
  },
  {
   "cell_type": "markdown",
   "metadata": {},
   "source": []
  },
  {
   "cell_type": "code",
   "execution_count": 5,
   "metadata": {},
   "outputs": [],
   "source": [
    "#import packages \n",
    "import numpy as np\n",
    "import pandas as pd\n",
    "import csv\n",
    "import sys\n",
    "import matplotlib.pyplot as plt\n",
    "from astropy import units as u"
   ]
  },
  {
   "cell_type": "code",
   "execution_count": 11,
   "metadata": {},
   "outputs": [],
   "source": [
    "ROSAT = pd.read_csv(\"2rxs_lite.txt\", delim_whitespace=True)  #names=[\"A\", \"B\"]\n",
    "Einstein = pd.read_csv(\"2sig_J2000_theta.txt\", delim_whitespace=True)\n",
    "\n",
    "RA_ROSAT = ROSAT.iloc[:, 2] * u.deg\n",
    "DEC_ROSAT = ROSAT.iloc[:, 3] * u.deg\n",
    "\n",
    "RA_Einstein = Einstein.iloc[:, 0] * u.deg\n",
    "DEC_Einstein = Einstein.iloc[:, 1] * u.deg"
   ]
  },
  {
   "cell_type": "markdown",
   "metadata": {},
   "source": [
    "I will search through all of ROSAT and EINSTEIN and see if they fit the parameters mentioned above but using a modified both methods function and save them into a text file. I will cross check the two files to see if they have something that fits the parameters."
   ]
  },
  {
   "cell_type": "code",
   "execution_count": 12,
   "metadata": {},
   "outputs": [],
   "source": [
    "def coor_data(dec1, dec2, RA1, RA2): #takes in numbers in degree\n",
    "    theta = []\n",
    "    d1 = []\n",
    "    d2 = []\n",
    "    ra1 = []\n",
    "    ra2 = []\n",
    "    size = 0\n",
    "  \n",
    "    for i in range(np.size(dec1)):\n",
    "        j = 0\n",
    "        while j < np.size(dec1):\n",
    "            del_dec = np.absolute(dec1[i]-dec2[j])\n",
    "            del_RA = np.absolute(RA1[i]-RA2[j])\n",
    "            #np.sin wants numbers in radians but if you send in numbers in degree, it will do it in degree\n",
    "            if del_dec < 1 * u.deg and del_RA*np.cos(dec1[i]) < 1 * u.deg: #filter\n",
    "                #LoC way\n",
    "                theta_rad = np.sin(dec1[i])* np.sin(dec2[i]) + np.cos(dec1[i])*np.cos(dec2[i])*np.cos(del_RA) #returns answer in rad\n",
    "                theta_arcsec = np.arccos(theta_rad) * 206265 * u.arcsec / u.rad\n",
    "                if theta_arcsec < 300:\n",
    "                    theta.append(theta_arcsec)\n",
    "                    d1.append(dec1[i])\n",
    "                    d2.append(dec2[j])\n",
    "                    ra1.append(RA1[i])\n",
    "                    ra2.append(RA2[j])\n",
    "                    size += 1\n",
    "                    j += 1\n",
    "                else:\n",
    "                  j += 1\n",
    "            else:\n",
    "                #theta.append(0)\n",
    "                j += 1\n",
    "                #continue\n",
    "                \n",
    "    return theta, d1, d2, ra1, ra2, size\n"
   ]
  },
  {
   "cell_type": "code",
   "execution_count": 13,
   "metadata": {},
   "outputs": [
    {
     "name": "stdout",
     "output_type": "stream",
     "text": [
      "Start...\n"
     ]
    }
   ],
   "source": [
    "theta = []\n",
    "size_file = []\n",
    "dec_E = []\n",
    "dec_R = []\n",
    "RA_E = []\n",
    "RA_R = []\n",
    "\n",
    "print(\"Start...\")\n",
    "\n",
    "theta, dec_E, dec_R, RA_E, RA_R, size_file = coor_data(DEC_Einstein, DEC_ROSAT, RA_Einstein, RA_ROSAT)\n",
    "\n",
    "print(\"End...\")\n",
    "np.size(theta)\n",
    "ang_sep = np.zeros(size_file)\n",
    "for i in range(np.size(theta)):\n",
    "    ang_sep[i] = round(theta[i].value, 1)\n",
    "\n",
    "dec_E_new = np.zeros(size_file)\n",
    "for i in range(np.size(theta)):\n",
    "    dec_E_new[i] = round(dec_E[i].value, 1)\n",
    "\n",
    "dec_R_new = np.zeros(size_file)\n",
    "for i in range(np.size(theta)):\n",
    "    dec_R_new[i] = round(dec_R[i].value, 1)\n",
    "\n",
    "ra_E_new = np.zeros(size_file)\n",
    "for i in range(np.size(theta)):\n",
    "    ra_E_new[i] = round(RA_E[i].value, 1)\n",
    "\n",
    "ra_R_new = np.zeros(size_file)\n",
    "for i in range(np.size(theta)):\n",
    "    ra_R_new[i] = round(RA_R[i].value, 1)\n",
    "\n",
    "print(\"Writing file\")\n",
    "\n",
    "with open(r'angular_sep.txt', 'w') as fp:\n",
    "        for i in range(np.size(theta)):\n",
    "            fp.write(\"Angular Sep = %f\\t DEC Einstein = %f\\t DEC ROSART = %f\\t RA Einstein = %f\\t RA ROSART = %f\\n\" \n",
    "                     % ((ang_sep[i]), (dec_E_new[i]), (dec_R_new[i]), (ra_E_new[i]), (ra_R_new[i])))\n",
    "            \n",
    "print(\"finished\")\n"
   ]
  },
  {
   "cell_type": "code",
   "execution_count": null,
   "metadata": {},
   "outputs": [],
   "source": []
  }
 ],
 "metadata": {
  "kernelspec": {
   "display_name": "Python 3.8.2 64-bit",
   "language": "python",
   "name": "python3"
  },
  "language_info": {
   "codemirror_mode": {
    "name": "ipython",
    "version": 3
   },
   "file_extension": ".py",
   "mimetype": "text/x-python",
   "name": "python",
   "nbconvert_exporter": "python",
   "pygments_lexer": "ipython3",
   "version": "3.8.2"
  },
  "orig_nbformat": 4,
  "vscode": {
   "interpreter": {
    "hash": "31f2aee4e71d21fbe5cf8b01ff0e069b9275f58929596ceb00d14d90e3e16cd6"
   }
  }
 },
 "nbformat": 4,
 "nbformat_minor": 2
}
