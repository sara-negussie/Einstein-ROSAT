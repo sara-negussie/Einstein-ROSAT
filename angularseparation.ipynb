{
 "cells": [
  {
   "cell_type": "markdown",
   "metadata": {},
   "source": [
    "Here is my code to find the angular separation from the Einstein and ROSAT observatories. <br>\n",
    "Author: Sara Negussie <br>\n",
    "Date: June 13, 2022"
   ]
  },
  {
   "cell_type": "markdown",
   "metadata": {},
   "source": []
  },
  {
   "cell_type": "code",
   "execution_count": 74,
   "metadata": {},
   "outputs": [],
   "source": [
    "#import packages \n",
    "import numpy as np\n",
    "import pandas as pd\n",
    "import csv\n",
    "import sys\n",
    "import matplotlib.pyplot as plt\n",
    "from astropy import units as u"
   ]
  },
  {
   "cell_type": "code",
   "execution_count": 75,
   "metadata": {},
   "outputs": [],
   "source": [
    "ROSAT = pd.read_csv(\"rass_short.txt\", delim_whitespace=True)  #names=[\"A\", \"B\"]\n",
    "Einstein = pd.read_csv(\"ets_short.txt\", delim_whitespace=True)\n",
    "\n",
    "RA_ROSAT = ROSAT.iloc[:, 2] * u.deg #right ascention\n",
    "DEC_ROSAT = ROSAT.iloc[:, 3] * u.deg #decllination\n",
    "SNR_ROSAT = ROSAT.iloc[:, 4] #signal to noise ratio\n",
    "\n",
    "RA_Einstein = Einstein.iloc[:, 0] * u.deg #right ascention\n",
    "DEC_Einstein = Einstein.iloc[:, 1] * u.deg #decllination\n",
    "SNR_Einstein = Einstein.iloc[:, 2] #signal to noise ratio\n",
    "\n",
    "#del_RA = np.absolute(RA_Einstein[0]-RA_ROSAT[0])\n",
    "#print(\"del RA = \\n\", del_RA)\n",
    "#print(SNR_ROSAT)\n",
    "#print(DEC_ROSAT)\n",
    "#print(SNR_Einstein)\n",
    "#print(DEC_Einstein)"
   ]
  },
  {
   "cell_type": "markdown",
   "metadata": {},
   "source": [
    "I will search through all of ROSAT and EINSTEIN and see if they fit the parameters mentioned above but using a modified both methods function and save them into a text file. I will cross check the two files to see if they have something that fits the parameters."
   ]
  },
  {
   "cell_type": "code",
   "execution_count": 106,
   "metadata": {},
   "outputs": [],
   "source": [
    "def coor_data(dec1, dec2, RA1, RA2, snr_1, snr_2): #takes in numbers in degree\n",
    "    theta = []\n",
    "    d1 = []\n",
    "    d2 = []\n",
    "    ra1 = []\n",
    "    ra2 = []\n",
    "    snr1 = []\n",
    "    snr2 = []\n",
    "    offset = []\n",
    "    ignored_range1  = [] #these are with SNR less than 1\n",
    "    ignored_range2  = [] #these are with SNR less than 1\n",
    "    poserr1 = 0.0\n",
    "    poserr2 = 0.0\n",
    "    size = 0\n",
    "  \n",
    "    for i in range(np.size(dec1)):\n",
    "        j = 0\n",
    "        while j < np.size(dec2):\n",
    "            #print(\"size of dec1 =\", np.size(dec1), \"i =\", i, \"j =\", j)\n",
    "            del_dec = np.absolute(dec1[i]-dec2[j])\n",
    "            #print(\"del dec = \\n\", del_dec)\n",
    "            del_RA = np.absolute(RA1[i]-RA2[j])\n",
    "            #print(\"del RA = \\n\", del_RA)\n",
    "            #np.sin wants numbers in radians but if you send in numbers in degree, it will do it in degree\n",
    "            if del_dec < 1 * u.deg and del_RA*np.cos(dec1[i]) < 1 * u.deg: #filter\n",
    "                #LoC way\n",
    "                theta_rad = np.sin(dec1[i])* np.sin(dec2[i]) + np.cos(dec1[i])*np.cos(dec2[i])*np.cos(del_RA) #returns answer in rad\n",
    "                #print(\"theta in radians = \", theta_rad)\n",
    "                theta_arcsec = np.arccos(theta_rad) * 206265 * u.arcsec / u.rad\n",
    "                #print(\"theta in arcsecs = \", theta_arcsec)\n",
    "                if theta_arcsec <= 300 * u.arcsec: \n",
    "                        if snr_1[i] >= 2 and snr_1[i] < 3:\n",
    "                                poserr1 = 73 * u.arcsec\n",
    "                        elif snr_1[i] >= 3 and snr_1[i] < 4:\n",
    "                                poserr1 = 53 * u.arcsec\n",
    "                        elif snr_1[i] >= 4 and snr_1[i] < 6:\n",
    "                                poserr1 = 41 * u.arcsec\n",
    "                        elif snr_1[i] >= 6:\n",
    "                                poserr1 = 30 * u.arcsec\n",
    "                        else:\n",
    "                                ignored_range1.append(i)\n",
    "                                #continue \n",
    "                                #this is for cases of snr less than 2. Is this not possible or do we ignore them?\n",
    "                        \n",
    "                        \n",
    "                        poserr2 = snr_2[j] * u.arcsec\n",
    "                        confid = theta_arcsec/np.sqrt(poserr1**2 + poserr2**2) #finding theta hat\n",
    "                        offset.append(confid)\n",
    "                        theta.append(theta_arcsec) \n",
    "                        d1.append(dec1[i])\n",
    "                        d2.append(dec2[j])\n",
    "                        ra1.append(RA1[i])\n",
    "                        ra2.append(RA2[j])\n",
    "                        snr1.append(snr_1[i])\n",
    "                        snr2.append(snr_2[j])\n",
    "                        size += 1\n",
    "                        j += 1\n",
    "                else:\n",
    "                  j += 1\n",
    "            else:\n",
    "                #theta.append(0)\n",
    "                j += 1\n",
    "                #continue\n",
    "                \n",
    "    return theta, d1, d2, offset, ra1, ra2, snr1, snr2, size, ignored_range1, ignored_range2\n",
    "\n",
    "#theta, dec_E, dec_R, RA_E, RA_R, size_file = coor_data(DEC_Einstein, DEC_ROSAT, RA_Einstein, RA_ROSAT)"
   ]
  },
  {
   "cell_type": "code",
   "execution_count": 101,
   "metadata": {},
   "outputs": [
    {
     "name": "stdout",
     "output_type": "stream",
     "text": [
      "Start...\n",
      "End...\n"
     ]
    }
   ],
   "source": [
    "theta = []\n",
    "size_file = []\n",
    "dec_E = []\n",
    "dec_R = []\n",
    "RA_E = []\n",
    "RA_R = []\n",
    "snr_E = []\n",
    "snr_R = []\n",
    "confidence = []\n",
    "ign_rang1 = []\n",
    "ign_rang2 = []\n",
    "\n",
    "print(\"Start...\")\n",
    "\n",
    "theta, dec_E, dec_R, confidence, RA_E, RA_R, snr_E, snr_R, size_file, ign_rang1, ign_rang2 = coor_data(DEC_Einstein, DEC_ROSAT, RA_Einstein, RA_ROSAT, SNR_Einstein, SNR_ROSAT)\n",
    "\n",
    "print(\"End...\")\n",
    "#print(theta)"
   ]
  },
  {
   "cell_type": "code",
   "execution_count": 120,
   "metadata": {},
   "outputs": [
    {
     "name": "stdout",
     "output_type": "stream",
     "text": [
      "1213\n",
      "Writing file\n",
      "finished\n"
     ]
    }
   ],
   "source": [
    "print(size_file)\n",
    "#g = float(\"{:.2f}\".format(x))\n",
    "\n",
    "ang_sep = np.zeros(size_file)\n",
    "for i in range(size_file):\n",
    "    #ang_sep[i] = round(theta[i].value, 3)\n",
    "    ang_sep[i] = float(\"{:.1f}\".format(theta[i].value))\n",
    "\n",
    "confidence_new = np.zeros(size_file)\n",
    "for i in range(size_file):\n",
    "    #ra_E_new[i] = round(RA_E[i].value, 1)\n",
    "    confidence_new[i] = float(\"{:.2f}\".format(confidence[i]))\n",
    "\n",
    "dec_E_new = np.zeros(size_file)\n",
    "for i in range(size_file):\n",
    "    #dec_E_new[i] = round(dec_E[i].value, 1)\n",
    "    dec_E_new[i] = float(\"{:.6f}\".format(dec_E[i].value))\n",
    "\n",
    "dec_R_new = np.zeros(size_file)\n",
    "for i in range(size_file):\n",
    "    #dec_R_new[i] = round(dec_R[i].value, 1)\n",
    "    dec_R_new[i] = float(\"{:.6f}\".format(dec_R[i].value))\n",
    "\n",
    "ra_E_new = np.zeros(size_file)\n",
    "for i in range(size_file):\n",
    "    #ra_E_new[i] = round(RA_E[i].value, 1)\n",
    "    ra_E_new[i] = float(\"{:.6f}\".format(RA_E[i].value))\n",
    "\n",
    "ra_R_new = np.zeros(size_file)\n",
    "for i in range(size_file):\n",
    "    #ra_R_new[i] = round(RA_R[i].value, 1)\n",
    "    ra_R_new[i] = float(\"{:.6f}\".format(RA_R[i].value))\n",
    "\n",
    "snr_E_new = np.zeros(size_file)\n",
    "for i in range(size_file):\n",
    "    #ra_E_new[i] = round(RA_E[i].value, 1)\n",
    "    snr_E_new[i] = float(\"{:.6f}\".format(snr_E[i]))\n",
    "\n",
    "snr_R_new = np.zeros(size_file)\n",
    "for i in range(size_file):\n",
    "    #ra_R_new[i] = round(RA_R[i].value, 1)\n",
    "    snr_R_new[i] = float(\"{:.6f}\".format(snr_R[i]))\n",
    "\n",
    "print(\"Writing file\")\n",
    "\n",
    "with open(r'angsep.txt', 'w') as fp:\n",
    "        for i in range(size_file):\n",
    "            if i == 0:\n",
    "                fp.write(\"\\tTheta\\t Offset\\t DEC-EO\\t\\t DEC-ROSART\\t RA-EO\\t\\t RA-ROSAT\\n\")\n",
    "            else:\n",
    "                fp.write(\"%8.1f\\t%.2f\\t%f\\t%f\\t%f\\t%f\\n\" %((ang_sep[i]), (confidence_new[i]), (dec_E_new[i]), (dec_R_new[i]), (ra_E_new[i]), (ra_R_new[i])))\n",
    "            \n",
    "print(\"finished\")\n"
   ]
  },
  {
   "cell_type": "code",
   "execution_count": 103,
   "metadata": {},
   "outputs": [
    {
     "name": "stdout",
     "output_type": "stream",
     "text": [
      "Angular Sep = %f  9.4\n"
     ]
    }
   ],
   "source": [
    "print(\"Angular Sep = %f \",ang_sep[4])"
   ]
  },
  {
   "cell_type": "code",
   "execution_count": 112,
   "metadata": {},
   "outputs": [
    {
     "name": "stdout",
     "output_type": "stream",
     "text": [
      "      4.8\n",
      "     49.7\n",
      "    456.8\n",
      "    -72.2\n",
      "      5.0\n",
      "     13.0\n"
     ]
    }
   ],
   "source": [
    "numbers = [4.8, 49.723, 456.781, -72.18, 5, 13]\n",
    "\n",
    "for number in numbers:\n",
    "    print(f'{number:9.1f}')"
   ]
  },
  {
   "cell_type": "code",
   "execution_count": null,
   "metadata": {},
   "outputs": [],
   "source": []
  }
 ],
 "metadata": {
  "kernelspec": {
   "display_name": "Python 3.8.2 64-bit",
   "language": "python",
   "name": "python3"
  },
  "language_info": {
   "codemirror_mode": {
    "name": "ipython",
    "version": 3
   },
   "file_extension": ".py",
   "mimetype": "text/x-python",
   "name": "python",
   "nbconvert_exporter": "python",
   "pygments_lexer": "ipython3",
   "version": "3.8.2"
  },
  "orig_nbformat": 4,
  "vscode": {
   "interpreter": {
    "hash": "31f2aee4e71d21fbe5cf8b01ff0e069b9275f58929596ceb00d14d90e3e16cd6"
   }
  }
 },
 "nbformat": 4,
 "nbformat_minor": 2
}
